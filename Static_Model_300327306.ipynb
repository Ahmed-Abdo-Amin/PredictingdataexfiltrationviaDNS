{
 "cells": [
  {
   "cell_type": "code",
   "execution_count": 82,
   "id": "4460a6e5",
   "metadata": {},
   "outputs": [],
   "source": [
    "#!pip install lightgbm\n",
    "#!pip install category_encoders"
   ]
  },
  {
   "cell_type": "markdown",
   "id": "2853d8a3",
   "metadata": {},
   "source": [
    "# Import libraries"
   ]
  },
  {
   "cell_type": "code",
   "execution_count": 3,
   "id": "d1399933",
   "metadata": {},
   "outputs": [],
   "source": [
    "from sklearn.ensemble import RandomForestClassifier\n",
    "import seaborn as sns\n",
    "import pandas as pd\n",
    "from sklearn.model_selection import train_test_split\n",
    "import seaborn as sp\n",
    "import matplotlib.pyplot as plt\n",
    "from sklearn.metrics import accuracy_score\n",
    "from sklearn.linear_model import LogisticRegression\n",
    "import numpy as np\n",
    "import time\n",
    "from numpy import nan\n",
    "from numpy import inf\n",
    "from collections import Counter\n",
    "from sklearn.manifold import TSNE\n",
    "from sklearn.feature_selection import mutual_info_classif,SelectKBest, f_classif\n",
    "from sklearn.metrics import classification_report,accuracy_score, recall_score\n",
    "from sklearn.preprocessing import StandardScaler, MaxAbsScaler, QuantileTransformer, RobustScaler\n",
    "from sklearn.pipeline import make_pipeline\n",
    "from lightgbm import LGBMClassifier\n",
    "from sklearn.decomposition import PCA\n",
    "from sklearn.model_selection import RepeatedStratifiedKFold\n",
    "from sklearn.model_selection import RandomizedSearchCV, GridSearchCV\n",
    "from scipy.stats import loguniform\n",
    "from scipy.stats import randint as sp_randint\n",
    "from scipy.stats import uniform as sp_uniform\n",
    "from category_encoders.hashing import HashingEncoder\n",
    "from sklearn.metrics import accuracy_score, precision_score, recall_score\n",
    "from sklearn.metrics import confusion_matrix, ConfusionMatrixDisplay\n",
    "import joblib"
   ]
  },
  {
   "cell_type": "markdown",
   "id": "a449929e",
   "metadata": {},
   "source": [
    "# Part I (Static Model):"
   ]
  },
  {
   "cell_type": "markdown",
   "id": "44153b00",
   "metadata": {},
   "source": [
    "## Data Analysis"
   ]
  },
  {
   "cell_type": "markdown",
   "id": "fcbaafbc",
   "metadata": {},
   "source": [
    "### Imported dataSet"
   ]
  },
  {
   "cell_type": "code",
   "execution_count": 2,
   "id": "77c27981",
   "metadata": {},
   "outputs": [
    {
     "data": {
      "text/html": [
       "<div>\n",
       "<style scoped>\n",
       "    .dataframe tbody tr th:only-of-type {\n",
       "        vertical-align: middle;\n",
       "    }\n",
       "\n",
       "    .dataframe tbody tr th {\n",
       "        vertical-align: top;\n",
       "    }\n",
       "\n",
       "    .dataframe thead th {\n",
       "        text-align: right;\n",
       "    }\n",
       "</style>\n",
       "<table border=\"1\" class=\"dataframe\">\n",
       "  <thead>\n",
       "    <tr style=\"text-align: right;\">\n",
       "      <th></th>\n",
       "      <th>timestamp</th>\n",
       "      <th>FQDN_count</th>\n",
       "      <th>subdomain_length</th>\n",
       "      <th>upper</th>\n",
       "      <th>lower</th>\n",
       "      <th>numeric</th>\n",
       "      <th>entropy</th>\n",
       "      <th>special</th>\n",
       "      <th>labels</th>\n",
       "      <th>labels_max</th>\n",
       "      <th>labels_average</th>\n",
       "      <th>longest_word</th>\n",
       "      <th>sld</th>\n",
       "      <th>len</th>\n",
       "      <th>subdomain</th>\n",
       "      <th>Target Attack</th>\n",
       "    </tr>\n",
       "  </thead>\n",
       "  <tbody>\n",
       "    <tr>\n",
       "      <th>0</th>\n",
       "      <td>56:19.8</td>\n",
       "      <td>27</td>\n",
       "      <td>10</td>\n",
       "      <td>0</td>\n",
       "      <td>10</td>\n",
       "      <td>11</td>\n",
       "      <td>2.570417</td>\n",
       "      <td>6</td>\n",
       "      <td>6</td>\n",
       "      <td>7</td>\n",
       "      <td>3.666667</td>\n",
       "      <td>2</td>\n",
       "      <td>192</td>\n",
       "      <td>14</td>\n",
       "      <td>1</td>\n",
       "      <td>1</td>\n",
       "    </tr>\n",
       "    <tr>\n",
       "      <th>1</th>\n",
       "      <td>07:23.9</td>\n",
       "      <td>27</td>\n",
       "      <td>10</td>\n",
       "      <td>0</td>\n",
       "      <td>10</td>\n",
       "      <td>11</td>\n",
       "      <td>2.767195</td>\n",
       "      <td>6</td>\n",
       "      <td>6</td>\n",
       "      <td>7</td>\n",
       "      <td>3.666667</td>\n",
       "      <td>2</td>\n",
       "      <td>192</td>\n",
       "      <td>14</td>\n",
       "      <td>1</td>\n",
       "      <td>1</td>\n",
       "    </tr>\n",
       "    <tr>\n",
       "      <th>2</th>\n",
       "      <td>23:15.1</td>\n",
       "      <td>26</td>\n",
       "      <td>9</td>\n",
       "      <td>0</td>\n",
       "      <td>10</td>\n",
       "      <td>10</td>\n",
       "      <td>2.742338</td>\n",
       "      <td>6</td>\n",
       "      <td>6</td>\n",
       "      <td>7</td>\n",
       "      <td>3.500000</td>\n",
       "      <td>2</td>\n",
       "      <td>192</td>\n",
       "      <td>13</td>\n",
       "      <td>1</td>\n",
       "      <td>0</td>\n",
       "    </tr>\n",
       "    <tr>\n",
       "      <th>3</th>\n",
       "      <td>04:51.9</td>\n",
       "      <td>27</td>\n",
       "      <td>10</td>\n",
       "      <td>0</td>\n",
       "      <td>10</td>\n",
       "      <td>11</td>\n",
       "      <td>2.570417</td>\n",
       "      <td>6</td>\n",
       "      <td>6</td>\n",
       "      <td>7</td>\n",
       "      <td>3.666667</td>\n",
       "      <td>2</td>\n",
       "      <td>192</td>\n",
       "      <td>14</td>\n",
       "      <td>1</td>\n",
       "      <td>1</td>\n",
       "    </tr>\n",
       "    <tr>\n",
       "      <th>4</th>\n",
       "      <td>12:44.0</td>\n",
       "      <td>15</td>\n",
       "      <td>9</td>\n",
       "      <td>0</td>\n",
       "      <td>11</td>\n",
       "      <td>0</td>\n",
       "      <td>2.929439</td>\n",
       "      <td>4</td>\n",
       "      <td>3</td>\n",
       "      <td>5</td>\n",
       "      <td>4.333333</td>\n",
       "      <td>local</td>\n",
       "      <td>local</td>\n",
       "      <td>15</td>\n",
       "      <td>1</td>\n",
       "      <td>1</td>\n",
       "    </tr>\n",
       "    <tr>\n",
       "      <th>...</th>\n",
       "      <td>...</td>\n",
       "      <td>...</td>\n",
       "      <td>...</td>\n",
       "      <td>...</td>\n",
       "      <td>...</td>\n",
       "      <td>...</td>\n",
       "      <td>...</td>\n",
       "      <td>...</td>\n",
       "      <td>...</td>\n",
       "      <td>...</td>\n",
       "      <td>...</td>\n",
       "      <td>...</td>\n",
       "      <td>...</td>\n",
       "      <td>...</td>\n",
       "      <td>...</td>\n",
       "      <td>...</td>\n",
       "    </tr>\n",
       "    <tr>\n",
       "      <th>268069</th>\n",
       "      <td>33:51.5</td>\n",
       "      <td>18</td>\n",
       "      <td>3</td>\n",
       "      <td>0</td>\n",
       "      <td>16</td>\n",
       "      <td>0</td>\n",
       "      <td>2.338623</td>\n",
       "      <td>2</td>\n",
       "      <td>3</td>\n",
       "      <td>10</td>\n",
       "      <td>5.333333</td>\n",
       "      <td>alma</td>\n",
       "      <td>almaalomah</td>\n",
       "      <td>14</td>\n",
       "      <td>1</td>\n",
       "      <td>0</td>\n",
       "    </tr>\n",
       "    <tr>\n",
       "      <th>268070</th>\n",
       "      <td>36:02.5</td>\n",
       "      <td>27</td>\n",
       "      <td>10</td>\n",
       "      <td>0</td>\n",
       "      <td>10</td>\n",
       "      <td>11</td>\n",
       "      <td>2.767195</td>\n",
       "      <td>6</td>\n",
       "      <td>6</td>\n",
       "      <td>7</td>\n",
       "      <td>3.666667</td>\n",
       "      <td>2</td>\n",
       "      <td>192</td>\n",
       "      <td>14</td>\n",
       "      <td>1</td>\n",
       "      <td>0</td>\n",
       "    </tr>\n",
       "    <tr>\n",
       "      <th>268071</th>\n",
       "      <td>37:21.5</td>\n",
       "      <td>27</td>\n",
       "      <td>10</td>\n",
       "      <td>0</td>\n",
       "      <td>10</td>\n",
       "      <td>11</td>\n",
       "      <td>2.767195</td>\n",
       "      <td>6</td>\n",
       "      <td>6</td>\n",
       "      <td>7</td>\n",
       "      <td>3.666667</td>\n",
       "      <td>2</td>\n",
       "      <td>192</td>\n",
       "      <td>14</td>\n",
       "      <td>1</td>\n",
       "      <td>1</td>\n",
       "    </tr>\n",
       "    <tr>\n",
       "      <th>268072</th>\n",
       "      <td>24:25.1</td>\n",
       "      <td>16</td>\n",
       "      <td>0</td>\n",
       "      <td>0</td>\n",
       "      <td>14</td>\n",
       "      <td>0</td>\n",
       "      <td>3.249687</td>\n",
       "      <td>2</td>\n",
       "      <td>2</td>\n",
       "      <td>13</td>\n",
       "      <td>7.500000</td>\n",
       "      <td>radio</td>\n",
       "      <td>radio-vintage</td>\n",
       "      <td>14</td>\n",
       "      <td>0</td>\n",
       "      <td>0</td>\n",
       "    </tr>\n",
       "    <tr>\n",
       "      <th>268073</th>\n",
       "      <td>20:56.1</td>\n",
       "      <td>27</td>\n",
       "      <td>10</td>\n",
       "      <td>0</td>\n",
       "      <td>10</td>\n",
       "      <td>11</td>\n",
       "      <td>2.570417</td>\n",
       "      <td>6</td>\n",
       "      <td>6</td>\n",
       "      <td>7</td>\n",
       "      <td>3.666667</td>\n",
       "      <td>2</td>\n",
       "      <td>192</td>\n",
       "      <td>14</td>\n",
       "      <td>1</td>\n",
       "      <td>1</td>\n",
       "    </tr>\n",
       "  </tbody>\n",
       "</table>\n",
       "<p>268074 rows × 16 columns</p>\n",
       "</div>"
      ],
      "text/plain": [
       "       timestamp  FQDN_count  subdomain_length  upper  lower  numeric  \\\n",
       "0        56:19.8          27                10      0     10       11   \n",
       "1        07:23.9          27                10      0     10       11   \n",
       "2        23:15.1          26                 9      0     10       10   \n",
       "3        04:51.9          27                10      0     10       11   \n",
       "4        12:44.0          15                 9      0     11        0   \n",
       "...          ...         ...               ...    ...    ...      ...   \n",
       "268069   33:51.5          18                 3      0     16        0   \n",
       "268070   36:02.5          27                10      0     10       11   \n",
       "268071   37:21.5          27                10      0     10       11   \n",
       "268072   24:25.1          16                 0      0     14        0   \n",
       "268073   20:56.1          27                10      0     10       11   \n",
       "\n",
       "         entropy  special  labels  labels_max  labels_average longest_word  \\\n",
       "0       2.570417        6       6           7        3.666667            2   \n",
       "1       2.767195        6       6           7        3.666667            2   \n",
       "2       2.742338        6       6           7        3.500000            2   \n",
       "3       2.570417        6       6           7        3.666667            2   \n",
       "4       2.929439        4       3           5        4.333333        local   \n",
       "...          ...      ...     ...         ...             ...          ...   \n",
       "268069  2.338623        2       3          10        5.333333         alma   \n",
       "268070  2.767195        6       6           7        3.666667            2   \n",
       "268071  2.767195        6       6           7        3.666667            2   \n",
       "268072  3.249687        2       2          13        7.500000        radio   \n",
       "268073  2.570417        6       6           7        3.666667            2   \n",
       "\n",
       "                  sld  len  subdomain  Target Attack  \n",
       "0                 192   14          1              1  \n",
       "1                 192   14          1              1  \n",
       "2                 192   13          1              0  \n",
       "3                 192   14          1              1  \n",
       "4               local   15          1              1  \n",
       "...               ...  ...        ...            ...  \n",
       "268069     almaalomah   14          1              0  \n",
       "268070            192   14          1              0  \n",
       "268071            192   14          1              1  \n",
       "268072  radio-vintage   14          0              0  \n",
       "268073            192   14          1              1  \n",
       "\n",
       "[268074 rows x 16 columns]"
      ]
     },
     "execution_count": 2,
     "metadata": {},
     "output_type": "execute_result"
    }
   ],
   "source": [
    "datasetStatic= pd.read_csv(\"./Static_dataset.csv\")\n",
    "datasetStatic"
   ]
  },
  {
   "cell_type": "markdown",
   "id": "a12caead",
   "metadata": {},
   "source": [
    "#### validating if your dataset is imbalanced"
   ]
  },
  {
   "cell_type": "code",
   "execution_count": 3,
   "id": "f9082228",
   "metadata": {},
   "outputs": [],
   "source": [
    "def show_data_balanceing(title, lst_names, lst_cls ):\n",
    "  plt.bar(lst_names,lst_cls,width=0.3)\n",
    "  plt.title(title)\n",
    "  plt.xlabel('classes')\n",
    "  plt.xticks(ha='right')\n",
    "  plt.ylabel('frequenncy')\n",
    "  plt.show()"
   ]
  },
  {
   "cell_type": "code",
   "execution_count": 4,
   "id": "28b8ae1b",
   "metadata": {},
   "outputs": [
    {
     "data": {
      "text/plain": [
       "1    147179\n",
       "0    120895\n",
       "Name: Target Attack, dtype: int64"
      ]
     },
     "execution_count": 4,
     "metadata": {},
     "output_type": "execute_result"
    }
   ],
   "source": [
    "# validate if your dataset is imbalanced \n",
    "datasetStatic['Target Attack'].value_counts()"
   ]
  },
  {
   "cell_type": "code",
   "execution_count": 5,
   "id": "de5b5686",
   "metadata": {},
   "outputs": [
    {
     "data": {
      "image/png": "[encoded data removed]",
      "text/plain": [
       "<Figure size 432x288 with 1 Axes>"
      ]
     },
     "metadata": {
      "needs_background": "light"
     },
     "output_type": "display_data"
    }
   ],
   "source": [
    "count_0 = datasetStatic['Target Attack'].value_counts()[0]\n",
    "count_1 = datasetStatic['Target Attack'].value_counts()[1]\n",
    "show_data_balanceing(\"The number of frequency for each class in Target Attack(Static_dataset)\", ['0','1'], [count_0, count_1])"
   ]
  },
  {
   "cell_type": "markdown",
   "id": "2375c2af",
   "metadata": {},
   "source": [
    "#### using plots and statistical tools the distribution of each feature and the target variable."
   ]
  },
  {
   "cell_type": "code",
   "execution_count": 239,
   "id": "817ff482",
   "metadata": {},
   "outputs": [
    {
     "name": "stdout",
     "output_type": "stream",
     "text": [
      "<class 'pandas.core.frame.DataFrame'>\n",
      "RangeIndex: 268074 entries, 0 to 268073\n",
      "Data columns (total 16 columns):\n",
      " #   Column            Non-Null Count   Dtype  \n",
      "---  ------            --------------   -----  \n",
      " 0   timestamp         268074 non-null  object \n",
      " 1   FQDN_count        268074 non-null  int64  \n",
      " 2   subdomain_length  268074 non-null  int64  \n",
      " 3   upper             268074 non-null  int64  \n",
      " 4   lower             268074 non-null  int64  \n",
      " 5   numeric           268074 non-null  int64  \n",
      " 6   entropy           268074 non-null  float64\n",
      " 7   special           268074 non-null  int64  \n",
      " 8   labels            268074 non-null  int64  \n",
      " 9   labels_max        268074 non-null  int64  \n",
      " 10  labels_average    268074 non-null  float64\n",
      " 11  longest_word      268066 non-null  object \n",
      " 12  sld               268074 non-null  object \n",
      " 13  len               268074 non-null  int64  \n",
      " 14  subdomain         268074 non-null  int64  \n",
      " 15  Target Attack     268074 non-null  int64  \n",
      "dtypes: float64(2), int64(11), object(3)\n",
      "memory usage: 32.7+ MB\n"
     ]
    }
   ],
   "source": [
    "datasetStatic.info()"
   ]
  },
  {
   "cell_type": "code",
   "execution_count": 240,
   "id": "034e4d6e",
   "metadata": {},
   "outputs": [
    {
     "name": "stdout",
     "output_type": "stream",
     "text": [
      "<class 'pandas.core.frame.DataFrame'>\n",
      "RangeIndex: 268074 entries, 0 to 268073\n",
      "Data columns (total 13 columns):\n",
      " #   Column            Non-Null Count   Dtype  \n",
      "---  ------            --------------   -----  \n",
      " 0   FQDN_count        268074 non-null  int64  \n",
      " 1   subdomain_length  268074 non-null  int64  \n",
      " 2   upper             268074 non-null  int64  \n",
      " 3   lower             268074 non-null  int64  \n",
      " 4   numeric           268074 non-null  int64  \n",
      " 5   entropy           268074 non-null  float64\n",
      " 6   special           268074 non-null  int64  \n",
      " 7   labels            268074 non-null  int64  \n",
      " 8   labels_max        268074 non-null  int64  \n",
      " 9   labels_average    268074 non-null  float64\n",
      " 10  len               268074 non-null  int64  \n",
      " 11  subdomain         268074 non-null  int64  \n",
      " 12  Target Attack     268074 non-null  int64  \n",
      "dtypes: float64(2), int64(11)\n",
      "memory usage: 26.6 MB\n"
     ]
    }
   ],
   "source": [
    "datasetStaticOnlynumeric = datasetStatic.select_dtypes(include=['int64','float64'])\n",
    "datasetStaticOnlynumeric.info()"
   ]
  },
  {
   "cell_type": "code",
   "execution_count": 54,
   "id": "04cda7d0",
   "metadata": {
    "scrolled": false
   },
   "outputs": [
    {
     "data": {
      "image/png": "[encoded data removed]",
      "text/plain": [
       "<Figure size 432x288 with 1 Axes>"
      ]
     },
     "metadata": {
      "needs_background": "light"
     },
     "output_type": "display_data"
    },
    {
     "data": {
      "image/png": "[encoded data removed]",
      "text/plain": [
       "<Figure size 432x288 with 1 Axes>"
      ]
     },
     "metadata": {
      "needs_background": "light"
     },
     "output_type": "display_data"
    },
    {
     "data": {
      "image/png": "[encoded data removed]",
      "text/plain": [
       "<Figure size 432x288 with 1 Axes>"
      ]
     },
     "metadata": {
      "needs_background": "light"
     },
     "output_type": "display_data"
    },
    {
     "data": {
      "image/png": "[encoded data removed]",
      "text/plain": [
       "<Figure size 432x288 with 1 Axes>"
      ]
     },
     "metadata": {
      "needs_background": "light"
     },
     "output_type": "display_data"
    },
    {
     "data": {
      "image/png": "[encoded data removed]",
      "text/plain": [
       "<Figure size 432x288 with 1 Axes>"
      ]
     },
     "metadata": {
      "needs_background": "light"
     },
     "output_type": "display_data"
    },
    {
     "data": {
      "image/png": "[encoded data removed]",
      "text/plain": [
       "<Figure size 432x288 with 1 Axes>"
      ]
     },
     "metadata": {
      "needs_background": "light"
     },
     "output_type": "display_data"
    },
    {
     "data": {
      "image/png": "[encoded data removed]",
      "text/plain": [
       "<Figure size 432x288 with 1 Axes>"
      ]
     },
     "metadata": {
      "needs_background": "light"
     },
     "output_type": "display_data"
    },
    {
     "data": {
      "image/png": "[encoded data removed]",
      "text/plain": [
       "<Figure size 432x288 with 1 Axes>"
      ]
     },
     "metadata": {
      "needs_background": "light"
     },
     "output_type": "display_data"
    },
    {
     "data": {
      "image/png": "[encoded data removed]",
      "text/plain": [
       "<Figure size 432x288 with 1 Axes>"
      ]
     },
     "metadata": {
      "needs_background": "light"
     },
     "output_type": "display_data"
    },
    {
     "data": {
      "image/png": "[encoded data removed]",
      "text/plain": [
       "<Figure size 432x288 with 1 Axes>"
      ]
     },
     "metadata": {
      "needs_background": "light"
     },
     "output_type": "display_data"
    },
    {
     "data": {
      "image/png": "[encoded data removed]",
      "text/plain": [
       "<Figure size 432x288 with 1 Axes>"
      ]
     },
     "metadata": {
      "needs_background": "light"
     },
     "output_type": "display_data"
    },
    {
     "data": {
      "image/png": "[encoded data removed]",
      "text/plain": [
       "<Figure size 432x288 with 1 Axes>"
      ]
     },
     "metadata": {
      "needs_background": "light"
     },
     "output_type": "display_data"
    },
    {
     "data": {
      "image/png": "[encoded data removed]",
      "text/plain": [
       "<Figure size 432x288 with 1 Axes>"
      ]
     },
     "metadata": {
      "needs_background": "light"
     },
     "output_type": "display_data"
    }
   ],
   "source": [
    "# Plot the distribution of each feature and the target variable,\n",
    "for f in datasetStaticOnlynumeric.columns:\n",
    "    datasetStaticOnlynumeric[f].plot.kde()\n",
    "    plt.title(f\"the distribution of {f}\")\n",
    "    plt.show()"
   ]
  },
  {
   "cell_type": "markdown",
   "id": "d7801427",
   "metadata": {},
   "source": [
    "## Feature engineering and data cleaning"
   ]
  },
  {
   "cell_type": "code",
   "execution_count": 71,
   "id": "4b6258cf",
   "metadata": {},
   "outputs": [],
   "source": [
    "#datasetStatic['timestamp'].dtypes"
   ]
  },
  {
   "cell_type": "code",
   "execution_count": 43,
   "id": "f2ddeaf2",
   "metadata": {},
   "outputs": [
    {
     "name": "stdout",
     "output_type": "stream",
     "text": [
      "<class 'pandas.core.frame.DataFrame'>\n",
      "RangeIndex: 268074 entries, 0 to 268073\n",
      "Data columns (total 15 columns):\n",
      " #   Column            Non-Null Count   Dtype  \n",
      "---  ------            --------------   -----  \n",
      " 0   FQDN_count        268074 non-null  int64  \n",
      " 1   subdomain_length  268074 non-null  int64  \n",
      " 2   upper             268074 non-null  int64  \n",
      " 3   lower             268074 non-null  int64  \n",
      " 4   numeric           268074 non-null  int64  \n",
      " 5   entropy           268074 non-null  float64\n",
      " 6   special           268074 non-null  int64  \n",
      " 7   labels            268074 non-null  int64  \n",
      " 8   labels_max        268074 non-null  int64  \n",
      " 9   labels_average    268074 non-null  float64\n",
      " 10  longest_word      268066 non-null  object \n",
      " 11  sld               268074 non-null  object \n",
      " 12  len               268074 non-null  int64  \n",
      " 13  subdomain         268074 non-null  int64  \n",
      " 14  Target Attack     268074 non-null  int64  \n",
      "dtypes: float64(2), int64(11), object(2)\n",
      "memory usage: 30.7+ MB\n"
     ]
    }
   ],
   "source": [
    "# remove timestamp column\n",
    "datasetStaticWithoutTime = datasetStatic.iloc[:,1:]\n",
    "datasetStaticWithoutTime.info()"
   ]
  },
  {
   "cell_type": "code",
   "execution_count": 44,
   "id": "462f1c97",
   "metadata": {},
   "outputs": [
    {
     "data": {
      "text/plain": [
       "FQDN_count          0\n",
       "subdomain_length    0\n",
       "upper               0\n",
       "lower               0\n",
       "numeric             0\n",
       "entropy             0\n",
       "special             0\n",
       "labels              0\n",
       "labels_max          0\n",
       "labels_average      0\n",
       "longest_word        8\n",
       "sld                 0\n",
       "len                 0\n",
       "subdomain           0\n",
       "Target Attack       0\n",
       "dtype: int64"
      ]
     },
     "execution_count": 44,
     "metadata": {},
     "output_type": "execute_result"
    }
   ],
   "source": [
    "datasetStaticWithoutTime.isnull().sum()"
   ]
  },
  {
   "cell_type": "code",
   "execution_count": 45,
   "id": "05126bdb",
   "metadata": {},
   "outputs": [
    {
     "name": "stdout",
     "output_type": "stream",
     "text": [
      "<class 'pandas.core.frame.DataFrame'>\n",
      "RangeIndex: 268074 entries, 0 to 268073\n",
      "Data columns (total 2 columns):\n",
      " #   Column        Non-Null Count   Dtype \n",
      "---  ------        --------------   ----- \n",
      " 0   longest_word  268066 non-null  object\n",
      " 1   sld           268074 non-null  object\n",
      "dtypes: object(2)\n",
      "memory usage: 4.1+ MB\n"
     ]
    }
   ],
   "source": [
    "# show information for Cloumns that have problems.\n",
    "datasetStaticWithoutTime.select_dtypes(include=['object']).info()"
   ]
  },
  {
   "cell_type": "code",
   "execution_count": 46,
   "id": "4042fd12",
   "metadata": {},
   "outputs": [
    {
     "data": {
      "text/plain": [
       "2          109981\n",
       "4           70188\n",
       "N            4498\n",
       "C            2969\n",
       "9            1906\n",
       "            ...  \n",
       "yaa             1\n",
       "queue           1\n",
       "kit             1\n",
       "airdrop         1\n",
       "mal             1\n",
       "Name: longest_word, Length: 6224, dtype: int64"
      ]
     },
     "execution_count": 46,
     "metadata": {},
     "output_type": "execute_result"
    }
   ],
   "source": [
    "datasetStaticWithoutTime[\"longest_word\"].value_counts()"
   ]
  },
  {
   "cell_type": "code",
   "execution_count": 47,
   "id": "28cae166",
   "metadata": {},
   "outputs": [],
   "source": [
    "datasetStaticWithoutTime['longest_word'] = datasetStaticWithoutTime['longest_word'].astype('str')\n",
    "datasetStaticWithoutTime['longest_word'] = datasetStaticWithoutTime['longest_word'].apply(lambda x: x if any(c.isnumeric() for c in x) else len(x)).astype('int')"
   ]
  },
  {
   "cell_type": "code",
   "execution_count": 48,
   "id": "5a3c82da",
   "metadata": {},
   "outputs": [
    {
     "data": {
      "text/plain": [
       "2     117771\n",
       "4      86053\n",
       "5      14100\n",
       "3      13894\n",
       "1      11525\n",
       "6       8723\n",
       "7       6511\n",
       "9       4202\n",
       "8       3556\n",
       "10      1033\n",
       "11       427\n",
       "12       117\n",
       "13        71\n",
       "0         56\n",
       "14        24\n",
       "15         6\n",
       "16         5\n",
       "Name: longest_word, dtype: int64"
      ]
     },
     "execution_count": 48,
     "metadata": {},
     "output_type": "execute_result"
    }
   ],
   "source": [
    "datasetStaticWithoutTime['longest_word'].value_counts()"
   ]
  },
  {
   "cell_type": "code",
   "execution_count": 49,
   "id": "d24c6838",
   "metadata": {},
   "outputs": [
    {
     "data": {
      "text/plain": [
       "192                                 109517\n",
       "224                                  70188\n",
       "FHEPFCELEHFCEPFFFACACACACACACABN      4498\n",
       "DESKTOP-3JF04TC                       1961\n",
       "239                                   1906\n",
       "                                     ...  \n",
       "freesgift                                1\n",
       "secureserver                             1\n",
       "airdropalert                             1\n",
       "queue-it                                 1\n",
       "lahemal                                  1\n",
       "Name: sld, Length: 11112, dtype: int64"
      ]
     },
     "execution_count": 49,
     "metadata": {},
     "output_type": "execute_result"
    }
   ],
   "source": [
    "datasetStaticWithoutTime['sld'].value_counts()"
   ]
  },
  {
   "cell_type": "code",
   "execution_count": 50,
   "id": "b7c1903e",
   "metadata": {},
   "outputs": [],
   "source": [
    "modeSld = datasetStaticWithoutTime['sld'].mode()[0]\n",
    "datasetStaticWithoutTime['sld'] = datasetStaticWithoutTime['sld'].replace(r'(([a-z]+)|([A-Z]+|(0-1)))',70, regex=True).astype('int')"
   ]
  },
  {
   "cell_type": "code",
   "execution_count": 51,
   "id": "d0835837",
   "metadata": {},
   "outputs": [
    {
     "data": {
      "text/plain": [
       "192       109517\n",
       "70         85972\n",
       "224        70188\n",
       "239         1906\n",
       "172          424\n",
       "573            8\n",
       "352            8\n",
       "72             8\n",
       "1242           8\n",
       "365838         8\n",
       "981            8\n",
       "32877          8\n",
       "13             7\n",
       "911            4\n",
       "Name: sld, dtype: int64"
      ]
     },
     "execution_count": 51,
     "metadata": {},
     "output_type": "execute_result"
    }
   ],
   "source": [
    "datasetStaticWithoutTime['sld'].value_counts()"
   ]
  },
  {
   "cell_type": "code",
   "execution_count": 52,
   "id": "0a988e24",
   "metadata": {
    "scrolled": true
   },
   "outputs": [
    {
     "data": {
      "text/plain": [
       "<AxesSubplot:title={'center':'the distribution of longest_word After cleaning it:'}, ylabel='Density'>"
      ]
     },
     "execution_count": 52,
     "metadata": {},
     "output_type": "execute_result"
    },
    {
     "data": {
      "image/png": "[encoded data removed]",
      "text/plain": [
       "<Figure size 432x288 with 1 Axes>"
      ]
     },
     "metadata": {
      "needs_background": "light"
     },
     "output_type": "display_data"
    }
   ],
   "source": [
    "plt.title(\"the distribution of longest_word After cleaning it:\")\n",
    "datasetStaticWithoutTime[\"longest_word\"].plot.kde()"
   ]
  },
  {
   "cell_type": "code",
   "execution_count": 71,
   "id": "4ca4968f",
   "metadata": {},
   "outputs": [
    {
     "name": "stdout",
     "output_type": "stream",
     "text": [
      "<class 'pandas.core.frame.DataFrame'>\n",
      "RangeIndex: 268074 entries, 0 to 268073\n",
      "Data columns (total 15 columns):\n",
      " #   Column            Non-Null Count   Dtype  \n",
      "---  ------            --------------   -----  \n",
      " 0   FQDN_count        268074 non-null  int64  \n",
      " 1   subdomain_length  268074 non-null  int64  \n",
      " 2   upper             268074 non-null  int64  \n",
      " 3   lower             268074 non-null  int64  \n",
      " 4   numeric           268074 non-null  int64  \n",
      " 5   entropy           268074 non-null  float64\n",
      " 6   special           268074 non-null  int64  \n",
      " 7   labels            268074 non-null  int64  \n",
      " 8   labels_max        268074 non-null  int64  \n",
      " 9   labels_average    268074 non-null  float64\n",
      " 10  longest_word      268074 non-null  int32  \n",
      " 11  sld               268074 non-null  int32  \n",
      " 12  len               268074 non-null  int64  \n",
      " 13  subdomain         268074 non-null  int64  \n",
      " 14  Target Attack     268074 non-null  int64  \n",
      "dtypes: float64(2), int32(2), int64(11)\n",
      "memory usage: 28.6 MB\n"
     ]
    }
   ],
   "source": [
    "# Show information the features of \"Static_dataset.csv\" after cleaning\n",
    "datasetStaticWithoutTime.info()"
   ]
  },
  {
   "cell_type": "code",
   "execution_count": 54,
   "id": "585144ae",
   "metadata": {},
   "outputs": [
    {
     "data": {
      "text/plain": [
       "FQDN_count          0\n",
       "subdomain_length    0\n",
       "upper               0\n",
       "lower               0\n",
       "numeric             0\n",
       "entropy             0\n",
       "special             0\n",
       "labels              0\n",
       "labels_max          0\n",
       "labels_average      0\n",
       "longest_word        0\n",
       "sld                 0\n",
       "len                 0\n",
       "subdomain           0\n",
       "Target Attack       0\n",
       "dtype: int64"
      ]
     },
     "execution_count": 54,
     "metadata": {},
     "output_type": "execute_result"
    }
   ],
   "source": [
    "# Show the number of null values in data \n",
    "datasetStaticWithoutTime.isnull().sum()"
   ]
  },
  {
   "cell_type": "markdown",
   "id": "9f84ece6",
   "metadata": {},
   "source": [
    "Get outliers in each feature."
   ]
  },
  {
   "cell_type": "code",
   "execution_count": 17,
   "id": "22a74838",
   "metadata": {},
   "outputs": [
    {
     "name": "stdout",
     "output_type": "stream",
     "text": [
      "Number of possible outliers per feature\n",
      "FQDN_count           1084\n",
      "Target Attack           0\n",
      "entropy               164\n",
      "labels                  0\n",
      "labels_average      48373\n",
      "labels_max          77958\n",
      "len                 21267\n",
      "longest_word            0\n",
      "lower               78793\n",
      "numeric                 0\n",
      "sld                    75\n",
      "special                 0\n",
      "subdomain           66081\n",
      "subdomain_length       14\n",
      "upper                9315\n",
      "dtype: int64\n"
     ]
    },
    {
     "name": "stderr",
     "output_type": "stream",
     "text": [
      "C:\\Users\\AhmedPro\\AppData\\Local\\Temp\\ipykernel_12204\\198454502.py:6: FutureWarning: Automatic reindexing on DataFrame vs Series comparisons is deprecated and will raise ValueError in a future version. Do `left, right = left.align(right, axis=1, copy=False)` before e.g. `left == right`\n",
      "  print(((datasetStaticWithoutTime < (IQR1_train - 1.5 * IQR_train)) | (datasetStaticWithoutTime > (IQR3_train + 1.5 * IQR_train))).sum())\n"
     ]
    }
   ],
   "source": [
    "# calculate IQR for data Set (datasetStaticWithoutTime)\n",
    "IQR1_train = datasetStaticWithoutTime.quantile(0.25)\n",
    "IQR3_train = datasetStaticWithoutTime.quantile(0.75)\n",
    "IQR_train = IQR3_train - IQR1_train\n",
    "print(\"Number of possible outliers per feature\")\n",
    "print(((datasetStaticWithoutTime < (IQR1_train - 1.5 * IQR_train)) | (datasetStaticWithoutTime > (IQR3_train + 1.5 * IQR_train))).sum())"
   ]
  },
  {
   "cell_type": "markdown",
   "id": "d0650b1b",
   "metadata": {},
   "source": [
    "## Feature Filtering/Selection:"
   ]
  },
  {
   "cell_type": "code",
   "execution_count": 21,
   "id": "e3e3acc4",
   "metadata": {},
   "outputs": [],
   "source": [
    "# import seaborn as sb\n",
    "# plt.figure(figsize=(10,8))\n",
    "# sb.heatmap(datasetStaticWithoutTime.corr(), cmap=\"YlGnBu\", annot=True)"
   ]
  },
  {
   "cell_type": "code",
   "execution_count": 22,
   "id": "d618175a",
   "metadata": {},
   "outputs": [],
   "source": [
    "#sns.pairplot(datasetStaticWithoutTime, hue=\"Target Attack\")"
   ]
  },
  {
   "cell_type": "code",
   "execution_count": 76,
   "id": "a5d2276f",
   "metadata": {},
   "outputs": [
    {
     "name": "stdout",
     "output_type": "stream",
     "text": [
      "The shape of datasetStaticWithoutTime: (268074, 15)\n",
      "The shape of X: (268074, 14)\n",
      "The shape of y: (268074,)\n"
     ]
    }
   ],
   "source": [
    "X = datasetStaticWithoutTime.drop(labels = [\"Target Attack\"], axis=1)\n",
    "y = datasetStaticWithoutTime[\"Target Attack\"]\n",
    "print(f\"The shape of datasetStaticWithoutTime: {datasetStaticWithoutTime.shape}\")\n",
    "print(f\"The shape of X: {X.shape}\")\n",
    "print(f\"The shape of y: {y.shape}\")"
   ]
  },
  {
   "cell_type": "code",
   "execution_count": 77,
   "id": "aab98055",
   "metadata": {},
   "outputs": [
    {
     "data": {
      "text/html": [
       "<div>\n",
       "<style scoped>\n",
       "    .dataframe tbody tr th:only-of-type {\n",
       "        vertical-align: middle;\n",
       "    }\n",
       "\n",
       "    .dataframe tbody tr th {\n",
       "        vertical-align: top;\n",
       "    }\n",
       "\n",
       "    .dataframe thead th {\n",
       "        text-align: right;\n",
       "    }\n",
       "</style>\n",
       "<table border=\"1\" class=\"dataframe\">\n",
       "  <thead>\n",
       "    <tr style=\"text-align: right;\">\n",
       "      <th></th>\n",
       "      <th>FQDN_count</th>\n",
       "      <th>subdomain_length</th>\n",
       "      <th>upper</th>\n",
       "      <th>lower</th>\n",
       "      <th>numeric</th>\n",
       "      <th>entropy</th>\n",
       "      <th>special</th>\n",
       "      <th>labels</th>\n",
       "      <th>labels_max</th>\n",
       "      <th>labels_average</th>\n",
       "      <th>longest_word</th>\n",
       "      <th>sld</th>\n",
       "      <th>len</th>\n",
       "      <th>subdomain</th>\n",
       "    </tr>\n",
       "  </thead>\n",
       "  <tbody>\n",
       "    <tr>\n",
       "      <th>0</th>\n",
       "      <td>27</td>\n",
       "      <td>10</td>\n",
       "      <td>0</td>\n",
       "      <td>10</td>\n",
       "      <td>11</td>\n",
       "      <td>2.570417</td>\n",
       "      <td>6</td>\n",
       "      <td>6</td>\n",
       "      <td>7</td>\n",
       "      <td>3.666667</td>\n",
       "      <td>2</td>\n",
       "      <td>192</td>\n",
       "      <td>14</td>\n",
       "      <td>1</td>\n",
       "    </tr>\n",
       "    <tr>\n",
       "      <th>1</th>\n",
       "      <td>27</td>\n",
       "      <td>10</td>\n",
       "      <td>0</td>\n",
       "      <td>10</td>\n",
       "      <td>11</td>\n",
       "      <td>2.767195</td>\n",
       "      <td>6</td>\n",
       "      <td>6</td>\n",
       "      <td>7</td>\n",
       "      <td>3.666667</td>\n",
       "      <td>2</td>\n",
       "      <td>192</td>\n",
       "      <td>14</td>\n",
       "      <td>1</td>\n",
       "    </tr>\n",
       "    <tr>\n",
       "      <th>2</th>\n",
       "      <td>26</td>\n",
       "      <td>9</td>\n",
       "      <td>0</td>\n",
       "      <td>10</td>\n",
       "      <td>10</td>\n",
       "      <td>2.742338</td>\n",
       "      <td>6</td>\n",
       "      <td>6</td>\n",
       "      <td>7</td>\n",
       "      <td>3.500000</td>\n",
       "      <td>2</td>\n",
       "      <td>192</td>\n",
       "      <td>13</td>\n",
       "      <td>1</td>\n",
       "    </tr>\n",
       "    <tr>\n",
       "      <th>3</th>\n",
       "      <td>27</td>\n",
       "      <td>10</td>\n",
       "      <td>0</td>\n",
       "      <td>10</td>\n",
       "      <td>11</td>\n",
       "      <td>2.570417</td>\n",
       "      <td>6</td>\n",
       "      <td>6</td>\n",
       "      <td>7</td>\n",
       "      <td>3.666667</td>\n",
       "      <td>2</td>\n",
       "      <td>192</td>\n",
       "      <td>14</td>\n",
       "      <td>1</td>\n",
       "    </tr>\n",
       "    <tr>\n",
       "      <th>4</th>\n",
       "      <td>15</td>\n",
       "      <td>9</td>\n",
       "      <td>0</td>\n",
       "      <td>11</td>\n",
       "      <td>0</td>\n",
       "      <td>2.929439</td>\n",
       "      <td>4</td>\n",
       "      <td>3</td>\n",
       "      <td>5</td>\n",
       "      <td>4.333333</td>\n",
       "      <td>5</td>\n",
       "      <td>70</td>\n",
       "      <td>15</td>\n",
       "      <td>1</td>\n",
       "    </tr>\n",
       "    <tr>\n",
       "      <th>...</th>\n",
       "      <td>...</td>\n",
       "      <td>...</td>\n",
       "      <td>...</td>\n",
       "      <td>...</td>\n",
       "      <td>...</td>\n",
       "      <td>...</td>\n",
       "      <td>...</td>\n",
       "      <td>...</td>\n",
       "      <td>...</td>\n",
       "      <td>...</td>\n",
       "      <td>...</td>\n",
       "      <td>...</td>\n",
       "      <td>...</td>\n",
       "      <td>...</td>\n",
       "    </tr>\n",
       "    <tr>\n",
       "      <th>268069</th>\n",
       "      <td>18</td>\n",
       "      <td>3</td>\n",
       "      <td>0</td>\n",
       "      <td>16</td>\n",
       "      <td>0</td>\n",
       "      <td>2.338623</td>\n",
       "      <td>2</td>\n",
       "      <td>3</td>\n",
       "      <td>10</td>\n",
       "      <td>5.333333</td>\n",
       "      <td>4</td>\n",
       "      <td>70</td>\n",
       "      <td>14</td>\n",
       "      <td>1</td>\n",
       "    </tr>\n",
       "    <tr>\n",
       "      <th>268070</th>\n",
       "      <td>27</td>\n",
       "      <td>10</td>\n",
       "      <td>0</td>\n",
       "      <td>10</td>\n",
       "      <td>11</td>\n",
       "      <td>2.767195</td>\n",
       "      <td>6</td>\n",
       "      <td>6</td>\n",
       "      <td>7</td>\n",
       "      <td>3.666667</td>\n",
       "      <td>2</td>\n",
       "      <td>192</td>\n",
       "      <td>14</td>\n",
       "      <td>1</td>\n",
       "    </tr>\n",
       "    <tr>\n",
       "      <th>268071</th>\n",
       "      <td>27</td>\n",
       "      <td>10</td>\n",
       "      <td>0</td>\n",
       "      <td>10</td>\n",
       "      <td>11</td>\n",
       "      <td>2.767195</td>\n",
       "      <td>6</td>\n",
       "      <td>6</td>\n",
       "      <td>7</td>\n",
       "      <td>3.666667</td>\n",
       "      <td>2</td>\n",
       "      <td>192</td>\n",
       "      <td>14</td>\n",
       "      <td>1</td>\n",
       "    </tr>\n",
       "    <tr>\n",
       "      <th>268072</th>\n",
       "      <td>16</td>\n",
       "      <td>0</td>\n",
       "      <td>0</td>\n",
       "      <td>14</td>\n",
       "      <td>0</td>\n",
       "      <td>3.249687</td>\n",
       "      <td>2</td>\n",
       "      <td>2</td>\n",
       "      <td>13</td>\n",
       "      <td>7.500000</td>\n",
       "      <td>5</td>\n",
       "      <td>70</td>\n",
       "      <td>14</td>\n",
       "      <td>0</td>\n",
       "    </tr>\n",
       "    <tr>\n",
       "      <th>268073</th>\n",
       "      <td>27</td>\n",
       "      <td>10</td>\n",
       "      <td>0</td>\n",
       "      <td>10</td>\n",
       "      <td>11</td>\n",
       "      <td>2.570417</td>\n",
       "      <td>6</td>\n",
       "      <td>6</td>\n",
       "      <td>7</td>\n",
       "      <td>3.666667</td>\n",
       "      <td>2</td>\n",
       "      <td>192</td>\n",
       "      <td>14</td>\n",
       "      <td>1</td>\n",
       "    </tr>\n",
       "  </tbody>\n",
       "</table>\n",
       "<p>268074 rows × 14 columns</p>\n",
       "</div>"
      ],
      "text/plain": [
       "        FQDN_count  subdomain_length  upper  lower  numeric   entropy  \\\n",
       "0               27                10      0     10       11  2.570417   \n",
       "1               27                10      0     10       11  2.767195   \n",
       "2               26                 9      0     10       10  2.742338   \n",
       "3               27                10      0     10       11  2.570417   \n",
       "4               15                 9      0     11        0  2.929439   \n",
       "...            ...               ...    ...    ...      ...       ...   \n",
       "268069          18                 3      0     16        0  2.338623   \n",
       "268070          27                10      0     10       11  2.767195   \n",
       "268071          27                10      0     10       11  2.767195   \n",
       "268072          16                 0      0     14        0  3.249687   \n",
       "268073          27                10      0     10       11  2.570417   \n",
       "\n",
       "        special  labels  labels_max  labels_average  longest_word  sld  len  \\\n",
       "0             6       6           7        3.666667             2  192   14   \n",
       "1             6       6           7        3.666667             2  192   14   \n",
       "2             6       6           7        3.500000             2  192   13   \n",
       "3             6       6           7        3.666667             2  192   14   \n",
       "4             4       3           5        4.333333             5   70   15   \n",
       "...         ...     ...         ...             ...           ...  ...  ...   \n",
       "268069        2       3          10        5.333333             4   70   14   \n",
       "268070        6       6           7        3.666667             2  192   14   \n",
       "268071        6       6           7        3.666667             2  192   14   \n",
       "268072        2       2          13        7.500000             5   70   14   \n",
       "268073        6       6           7        3.666667             2  192   14   \n",
       "\n",
       "        subdomain  \n",
       "0               1  \n",
       "1               1  \n",
       "2               1  \n",
       "3               1  \n",
       "4               1  \n",
       "...           ...  \n",
       "268069          1  \n",
       "268070          1  \n",
       "268071          1  \n",
       "268072          0  \n",
       "268073          1  \n",
       "\n",
       "[268074 rows x 14 columns]"
      ]
     },
     "execution_count": 77,
     "metadata": {},
     "output_type": "execute_result"
    }
   ],
   "source": [
    "X"
   ]
  },
  {
   "cell_type": "code",
   "execution_count": 92,
   "id": "553dd585",
   "metadata": {},
   "outputs": [],
   "source": [
    "# determine the mutual information\n",
    "def detectImportanceBymutual_info_classif(Title,X,y):\n",
    "  mutual_info = mutual_info_classif(X, y)\n",
    "  mutual_info = pd.Series(mutual_info)\n",
    "  mutual_info.index = X.columns\n",
    "  #print(mutual_info.sort_values(ascending=False))\n",
    "  plt.title(\"Degree of features in importance of \"+Title)\n",
    "  mutual_info.sort_values(ascending=False).plot.barh(figsize=(20, 8))\n",
    "  listIMp = []\n",
    "  for i,v in enumerate(mutual_info):\n",
    "    if v > 0.05:\n",
    "      listIMp.append(i)\n",
    "  X_imp = X.copy().iloc[:, listIMp]\n",
    "  return X_imp"
   ]
  },
  {
   "cell_type": "code",
   "execution_count": 93,
   "id": "0b369d1e",
   "metadata": {},
   "outputs": [
    {
     "data": {
      "image/png": "[encoded data removed]",
      "text/plain": [
       "<Figure size 1440x576 with 1 Axes>"
      ]
     },
     "metadata": {
      "needs_background": "light"
     },
     "output_type": "display_data"
    }
   ],
   "source": [
    "X_imp = detectImportanceBymutual_info_classif(\"datasetStaticWithoutTime\",X, y)"
   ]
  },
  {
   "cell_type": "code",
   "execution_count": 22,
   "id": "dac1bb06",
   "metadata": {},
   "outputs": [
    {
     "data": {
      "text/plain": [
       "(268074, 13)"
      ]
     },
     "execution_count": 22,
     "metadata": {},
     "output_type": "execute_result"
    }
   ],
   "source": [
    "X_imp.shape"
   ]
  },
  {
   "cell_type": "code",
   "execution_count": 97,
   "id": "68c2af70",
   "metadata": {},
   "outputs": [],
   "source": [
    "X_train, X_test, y_train, y_test = train_test_split(np.array(X), np.array(y), test_size=0.2, random_state=0)\n",
    "X_train, X_val, y_train, y_val  = train_test_split(X_train, y_train, test_size=0.25, random_state=0)"
   ]
  },
  {
   "cell_type": "code",
   "execution_count": 98,
   "id": "0b48e406",
   "metadata": {},
   "outputs": [],
   "source": [
    "numFeatures = X.shape[1]"
   ]
  },
  {
   "cell_type": "code",
   "execution_count": 99,
   "id": "a579165d",
   "metadata": {},
   "outputs": [],
   "source": [
    "# appling modeling in pipline\n",
    "def ApplyMode(Model, X_train, y_train, X_val, y_val):\n",
    "    Model.fit(X_train, y_train)  # apply scaling on training data\n",
    "    #acc = pipe.score(X_test, y_test)\n",
    "    y_pred=Model.predict(X_val)\n",
    "    Recall = recall_score(y_val, y_pred, pos_label=1) #classification_report(y_pred,y_val, output_dict=True)['1']['recall']\n",
    "    #print(classification_report(y_pred,y_val))\n",
    "    #print(classification_report(y_pred,y_test))\n",
    "    print(f'The Recall score (Class 1) : {Recall}')\n",
    "    return Model, Recall"
   ]
  },
  {
   "cell_type": "markdown",
   "id": "f86d211b",
   "metadata": {},
   "source": [
    "### ANOVA"
   ]
  },
  {
   "cell_type": "code",
   "execution_count": 47,
   "id": "91b0ff2d",
   "metadata": {},
   "outputs": [
    {
     "name": "stdout",
     "output_type": "stream",
     "text": [
      "Training by 2 component on LogisticRegression After using ANOVA to:\n",
      "The Recall score (Class 1) : 0.9391136409839398\n",
      "Training by 2 component on LGBMClassifier After using ANOVA to:\n",
      "The Recall score (Class 1) : 0.9985769465338483\n",
      "-------------------------------------------------------------------------------------------------------------------------\n",
      "Training by 3 component on LogisticRegression After using ANOVA to:\n",
      "The Recall score (Class 1) : 0.9391136409839398\n",
      "Training by 3 component on LGBMClassifier After using ANOVA to:\n",
      "The Recall score (Class 1) : 0.9987124754353865\n",
      "-------------------------------------------------------------------------------------------------------------------------\n",
      "Training by 4 component on LogisticRegression After using ANOVA to:\n",
      "The Recall score (Class 1) : 0.9401639899708613\n",
      "Training by 4 component on LGBMClassifier After using ANOVA to:\n",
      "The Recall score (Class 1) : 0.9987124754353865\n",
      "-------------------------------------------------------------------------------------------------------------------------\n",
      "Training by 5 component on LogisticRegression After using ANOVA to:\n",
      "The Recall score (Class 1) : 0.9401639899708613\n",
      "Training by 5 component on LGBMClassifier After using ANOVA to:\n",
      "The Recall score (Class 1) : 0.9991190621400013\n",
      "-------------------------------------------------------------------------------------------------------------------------\n",
      "Training by 6 component on LogisticRegression After using ANOVA to:\n",
      "The Recall score (Class 1) : 0.9401639899708613\n",
      "Training by 6 component on LGBMClassifier After using ANOVA to:\n",
      "The Recall score (Class 1) : 0.9991190621400013\n",
      "-------------------------------------------------------------------------------------------------------------------------\n",
      "Training by 7 component on LogisticRegression After using ANOVA to:\n",
      "The Recall score (Class 1) : 0.9722165751846581\n",
      "Training by 7 component on LGBMClassifier After using ANOVA to:\n",
      "The Recall score (Class 1) : 0.9992545910415396\n",
      "-------------------------------------------------------------------------------------------------------------------------\n",
      "Training by 8 component on LogisticRegression After using ANOVA to:\n",
      "The Recall score (Class 1) : 0.9908179169207834\n",
      "Training by 8 component on LGBMClassifier After using ANOVA to:\n",
      "The Recall score (Class 1) : 0.999220708816155\n",
      "-------------------------------------------------------------------------------------------------------------------------\n",
      "Training by 9 component on LogisticRegression After using ANOVA to:\n",
      "The Recall score (Class 1) : 0.9959680151792369\n",
      "Training by 9 component on LGBMClassifier After using ANOVA to:\n",
      "The Recall score (Class 1) : 0.9997967066476926\n",
      "-------------------------------------------------------------------------------------------------------------------------\n",
      "Training by 10 component on LogisticRegression After using ANOVA to:\n",
      "The Recall score (Class 1) : 0.9908179169207834\n",
      "Training by 10 component on LGBMClassifier After using ANOVA to:\n",
      "The Recall score (Class 1) : 0.9997967066476926\n",
      "-------------------------------------------------------------------------------------------------------------------------\n",
      "Training by 11 component on LogisticRegression After using ANOVA to:\n",
      "The Recall score (Class 1) : 0.9960018974046215\n",
      "Training by 11 component on LGBMClassifier After using ANOVA to:\n",
      "The Recall score (Class 1) : 0.999762824422308\n",
      "-------------------------------------------------------------------------------------------------------------------------\n",
      "Training by 12 component on LogisticRegression After using ANOVA to:\n",
      "The Recall score (Class 1) : 0.9960018974046215\n",
      "Training by 12 component on LGBMClassifier After using ANOVA to:\n",
      "The Recall score (Class 1) : 0.9997967066476926\n",
      "-------------------------------------------------------------------------------------------------------------------------\n",
      "Training by 13 component on LogisticRegression After using ANOVA to:\n",
      "The Recall score (Class 1) : 0.9960018974046215\n",
      "Training by 13 component on LGBMClassifier After using ANOVA to:\n",
      "The Recall score (Class 1) : 0.9997967066476926\n",
      "-------------------------------------------------------------------------------------------------------------------------\n",
      "Training by 14 component on LogisticRegression After using ANOVA to:\n",
      "The Recall score (Class 1) : 0.9960018974046215\n",
      "Training by 14 component on LGBMClassifier After using ANOVA to:\n",
      "The Recall score (Class 1) : 0.9997967066476926\n",
      "-------------------------------------------------------------------------------------------------------------------------\n"
     ]
    }
   ],
   "source": [
    "listTestAcc_ANOVA_LR = []\n",
    "listTestAcc_ANOVA_LGBM = []\n",
    "for f in range(2,numFeatures+1):\n",
    "    # configure to select all features\n",
    "    ANOVAfs = SelectKBest(score_func=f_classif, k=f)\n",
    "    X_train_AfterANOVA = ANOVAfs.fit_transform(X_train, y_train)\n",
    "    X_val_AfterANOVA = ANOVAfs.transform(X_val)\n",
    "    print(f\"Training by {f} component on LogisticRegression After using ANOVA to:\")\n",
    "    _, testval = ApplyMode(LogisticRegression(max_iter=1000), X_train_AfterANOVA, y_train, X_val_AfterANOVA, y_val)\n",
    "    listTestAcc_ANOVA_LR.append(testval)\n",
    "    print(f\"Training by {f} component on LGBMClassifier After using ANOVA to:\")\n",
    "    _, testvalL = ApplyMode(LGBMClassifier(random_state=42),X_train_AfterANOVA, y_train, X_val_AfterANOVA, y_val)\n",
    "    listTestAcc_ANOVA_LGBM.append(testvalL)\n",
    "    print('-------------------------------------------------------------------------------------------------------------------------')"
   ]
  },
  {
   "cell_type": "code",
   "execution_count": 49,
   "id": "d8716823",
   "metadata": {},
   "outputs": [
    {
     "data": {
      "text/html": [
       "<div>\n",
       "<style scoped>\n",
       "    .dataframe tbody tr th:only-of-type {\n",
       "        vertical-align: middle;\n",
       "    }\n",
       "\n",
       "    .dataframe tbody tr th {\n",
       "        vertical-align: top;\n",
       "    }\n",
       "\n",
       "    .dataframe thead th {\n",
       "        text-align: right;\n",
       "    }\n",
       "</style>\n",
       "<table border=\"1\" class=\"dataframe\">\n",
       "  <thead>\n",
       "    <tr style=\"text-align: right;\">\n",
       "      <th></th>\n",
       "      <th>The Recall score (Class 1) of LR with ANOVA</th>\n",
       "    </tr>\n",
       "  </thead>\n",
       "  <tbody>\n",
       "    <tr>\n",
       "      <th>2</th>\n",
       "      <td>0.939114</td>\n",
       "    </tr>\n",
       "    <tr>\n",
       "      <th>3</th>\n",
       "      <td>0.939114</td>\n",
       "    </tr>\n",
       "    <tr>\n",
       "      <th>4</th>\n",
       "      <td>0.940164</td>\n",
       "    </tr>\n",
       "    <tr>\n",
       "      <th>5</th>\n",
       "      <td>0.940164</td>\n",
       "    </tr>\n",
       "    <tr>\n",
       "      <th>6</th>\n",
       "      <td>0.940164</td>\n",
       "    </tr>\n",
       "    <tr>\n",
       "      <th>7</th>\n",
       "      <td>0.972217</td>\n",
       "    </tr>\n",
       "    <tr>\n",
       "      <th>8</th>\n",
       "      <td>0.990818</td>\n",
       "    </tr>\n",
       "    <tr>\n",
       "      <th>9</th>\n",
       "      <td>0.995968</td>\n",
       "    </tr>\n",
       "    <tr>\n",
       "      <th>10</th>\n",
       "      <td>0.990818</td>\n",
       "    </tr>\n",
       "    <tr>\n",
       "      <th>11</th>\n",
       "      <td>0.996002</td>\n",
       "    </tr>\n",
       "    <tr>\n",
       "      <th>12</th>\n",
       "      <td>0.996002</td>\n",
       "    </tr>\n",
       "    <tr>\n",
       "      <th>13</th>\n",
       "      <td>0.996002</td>\n",
       "    </tr>\n",
       "    <tr>\n",
       "      <th>14</th>\n",
       "      <td>0.996002</td>\n",
       "    </tr>\n",
       "  </tbody>\n",
       "</table>\n",
       "</div>"
      ],
      "text/plain": [
       "    The Recall score (Class 1) of LR with ANOVA\n",
       "2                                      0.939114\n",
       "3                                      0.939114\n",
       "4                                      0.940164\n",
       "5                                      0.940164\n",
       "6                                      0.940164\n",
       "7                                      0.972217\n",
       "8                                      0.990818\n",
       "9                                      0.995968\n",
       "10                                     0.990818\n",
       "11                                     0.996002\n",
       "12                                     0.996002\n",
       "13                                     0.996002\n",
       "14                                     0.996002"
      ]
     },
     "execution_count": 49,
     "metadata": {},
     "output_type": "execute_result"
    }
   ],
   "source": [
    "# LogisticRegression (The Recall score (Class 1))\n",
    "Df_listTestAcc_ANOVA_LR = pd.DataFrame({'The Recall score (Class 1) of LR with ANOVA':listTestAcc_ANOVA_LR},index = range(2,numFeatures+1))\n",
    "Df_listTestAcc_ANOVA_LR"
   ]
  },
  {
   "cell_type": "code",
   "execution_count": 50,
   "id": "c0748154",
   "metadata": {},
   "outputs": [
    {
     "data": {
      "text/html": [
       "<div>\n",
       "<style scoped>\n",
       "    .dataframe tbody tr th:only-of-type {\n",
       "        vertical-align: middle;\n",
       "    }\n",
       "\n",
       "    .dataframe tbody tr th {\n",
       "        vertical-align: top;\n",
       "    }\n",
       "\n",
       "    .dataframe thead th {\n",
       "        text-align: right;\n",
       "    }\n",
       "</style>\n",
       "<table border=\"1\" class=\"dataframe\">\n",
       "  <thead>\n",
       "    <tr style=\"text-align: right;\">\n",
       "      <th></th>\n",
       "      <th>The Recall score (Class 1) of LGBM with ANOVA</th>\n",
       "    </tr>\n",
       "  </thead>\n",
       "  <tbody>\n",
       "    <tr>\n",
       "      <th>2</th>\n",
       "      <td>0.998577</td>\n",
       "    </tr>\n",
       "    <tr>\n",
       "      <th>3</th>\n",
       "      <td>0.998712</td>\n",
       "    </tr>\n",
       "    <tr>\n",
       "      <th>4</th>\n",
       "      <td>0.998712</td>\n",
       "    </tr>\n",
       "    <tr>\n",
       "      <th>5</th>\n",
       "      <td>0.999119</td>\n",
       "    </tr>\n",
       "    <tr>\n",
       "      <th>6</th>\n",
       "      <td>0.999119</td>\n",
       "    </tr>\n",
       "    <tr>\n",
       "      <th>7</th>\n",
       "      <td>0.999255</td>\n",
       "    </tr>\n",
       "    <tr>\n",
       "      <th>8</th>\n",
       "      <td>0.999221</td>\n",
       "    </tr>\n",
       "    <tr>\n",
       "      <th>9</th>\n",
       "      <td>0.999797</td>\n",
       "    </tr>\n",
       "    <tr>\n",
       "      <th>10</th>\n",
       "      <td>0.999797</td>\n",
       "    </tr>\n",
       "    <tr>\n",
       "      <th>11</th>\n",
       "      <td>0.999763</td>\n",
       "    </tr>\n",
       "    <tr>\n",
       "      <th>12</th>\n",
       "      <td>0.999797</td>\n",
       "    </tr>\n",
       "    <tr>\n",
       "      <th>13</th>\n",
       "      <td>0.999797</td>\n",
       "    </tr>\n",
       "    <tr>\n",
       "      <th>14</th>\n",
       "      <td>0.999797</td>\n",
       "    </tr>\n",
       "  </tbody>\n",
       "</table>\n",
       "</div>"
      ],
      "text/plain": [
       "    The Recall score (Class 1) of LGBM with ANOVA\n",
       "2                                        0.998577\n",
       "3                                        0.998712\n",
       "4                                        0.998712\n",
       "5                                        0.999119\n",
       "6                                        0.999119\n",
       "7                                        0.999255\n",
       "8                                        0.999221\n",
       "9                                        0.999797\n",
       "10                                       0.999797\n",
       "11                                       0.999763\n",
       "12                                       0.999797\n",
       "13                                       0.999797\n",
       "14                                       0.999797"
      ]
     },
     "execution_count": 50,
     "metadata": {},
     "output_type": "execute_result"
    }
   ],
   "source": [
    "# LGBMClassifier (The Recall score (Class 1))\n",
    "Df_listTestAcc_ANOVA_LGBM = pd.DataFrame({'The Recall score (Class 1) of LGBM with ANOVA':listTestAcc_ANOVA_LGBM},index = range(2,numFeatures+1))\n",
    "Df_listTestAcc_ANOVA_LGBM"
   ]
  },
  {
   "cell_type": "code",
   "execution_count": 11,
   "id": "fe85463d",
   "metadata": {},
   "outputs": [
    {
     "data": {
      "text/plain": [
       "12"
      ]
     },
     "execution_count": 11,
     "metadata": {},
     "output_type": "execute_result"
    }
   ],
   "source": [
    "len(range(2, 14))"
   ]
  },
  {
   "cell_type": "code",
   "execution_count": 51,
   "id": "1bb29f62",
   "metadata": {},
   "outputs": [
    {
     "name": "stdout",
     "output_type": "stream",
     "text": [
      "11 components is the best value based on The Recall score (Class 1) of the LogisticRegression classifier with ANOVA: 0.9960018974046215%\n",
      "9 components is the best value based on The Recall score (Class 1) of the LGBMClassifier classifier with ANOVA: 0.9997967066476926%\n"
     ]
    }
   ],
   "source": [
    "print(f'{Df_listTestAcc_ANOVA_LR.idxmax()[0]} components is the best value based on The Recall score (Class 1) of the LogisticRegression classifier with ANOVA: {Df_listTestAcc_ANOVA_LR.max()[0]}%')\n",
    "print(f'{Df_listTestAcc_ANOVA_LGBM.idxmax()[0]} components is the best value based on The Recall score (Class 1) of the LGBMClassifier classifier with ANOVA: {Df_listTestAcc_ANOVA_LGBM.max()[0]}%')"
   ]
  },
  {
   "cell_type": "markdown",
   "id": "2eecdf80",
   "metadata": {},
   "source": [
    "### PCA"
   ]
  },
  {
   "cell_type": "code",
   "execution_count": 52,
   "id": "9631103b",
   "metadata": {},
   "outputs": [
    {
     "name": "stdout",
     "output_type": "stream",
     "text": [
      "The number of features: 14\n",
      "Training by 2 component on LogisticRegression After using PCA to:\n",
      "The Recall score (Class 1) : 0.9554787558446839\n",
      "Training by 2 component on LGBMClassifier After using PCA to:\n",
      "The Recall score (Class 1) : 0.9995595310700007\n",
      "-------------------------------------------------------------------------------------------------------------------------\n",
      "Training by 3 component on LogisticRegression After using PCA to:\n",
      "The Recall score (Class 1) : 0.9735718642000406\n",
      "Training by 3 component on LGBMClassifier After using PCA to:\n",
      "The Recall score (Class 1) : 0.9995934132953852\n",
      "-------------------------------------------------------------------------------------------------------------------------\n",
      "Training by 4 component on LogisticRegression After using PCA to:\n",
      "The Recall score (Class 1) : 0.9824490072507962\n",
      "Training by 4 component on LGBMClassifier After using PCA to:\n",
      "The Recall score (Class 1) : 0.9997967066476926\n",
      "-------------------------------------------------------------------------------------------------------------------------\n",
      "Training by 5 component on LogisticRegression After using PCA to:\n",
      "The Recall score (Class 1) : 0.9824490072507962\n",
      "Training by 5 component on LGBMClassifier After using PCA to:\n",
      "The Recall score (Class 1) : 0.999762824422308\n",
      "-------------------------------------------------------------------------------------------------------------------------\n",
      "Training by 6 component on LogisticRegression After using PCA to:\n",
      "The Recall score (Class 1) : 0.9773666734431118\n",
      "Training by 6 component on LGBMClassifier After using PCA to:\n",
      "The Recall score (Class 1) : 0.999762824422308\n",
      "-------------------------------------------------------------------------------------------------------------------------\n",
      "Training by 7 component on LogisticRegression After using PCA to:\n",
      "The Recall score (Class 1) : 0.9773666734431118\n",
      "Training by 7 component on LGBMClassifier After using PCA to:\n",
      "The Recall score (Class 1) : 0.9997967066476926\n",
      "-------------------------------------------------------------------------------------------------------------------------\n",
      "Training by 8 component on LogisticRegression After using PCA to:\n",
      "The Recall score (Class 1) : 0.9959680151792369\n",
      "Training by 8 component on LGBMClassifier After using PCA to:\n",
      "The Recall score (Class 1) : 0.9923426170630887\n",
      "-------------------------------------------------------------------------------------------------------------------------\n",
      "Training by 9 component on LogisticRegression After using PCA to:\n",
      "The Recall score (Class 1) : 0.9908179169207834\n",
      "Training by 9 component on LGBMClassifier After using PCA to:\n",
      "The Recall score (Class 1) : 0.9997967066476926\n",
      "-------------------------------------------------------------------------------------------------------------------------\n",
      "Training by 10 component on LogisticRegression After using PCA to:\n",
      "The Recall score (Class 1) : 0.9908179169207834\n",
      "Training by 10 component on LGBMClassifier After using PCA to:\n",
      "The Recall score (Class 1) : 0.9892254523277089\n",
      "-------------------------------------------------------------------------------------------------------------------------\n",
      "Training by 11 component on LogisticRegression After using PCA to:\n",
      "The Recall score (Class 1) : 0.9960018974046215\n",
      "Training by 11 component on LGBMClassifier After using PCA to:\n",
      "The Recall score (Class 1) : 0.9923087348377041\n",
      "-------------------------------------------------------------------------------------------------------------------------\n",
      "Training by 12 component on LogisticRegression After using PCA to:\n",
      "The Recall score (Class 1) : 0.9960018974046215\n",
      "Training by 12 component on LGBMClassifier After using PCA to:\n",
      "The Recall score (Class 1) : 0.9923426170630887\n",
      "-------------------------------------------------------------------------------------------------------------------------\n",
      "Training by 13 component on LogisticRegression After using PCA to:\n",
      "The Recall score (Class 1) : 0.9960018974046215\n",
      "Training by 13 component on LGBMClassifier After using PCA to:\n",
      "The Recall score (Class 1) : 0.9818052449684895\n",
      "-------------------------------------------------------------------------------------------------------------------------\n",
      "Training by 14 component on LogisticRegression After using PCA to:\n",
      "The Recall score (Class 1) : 0.9960018974046215\n",
      "Training by 14 component on LGBMClassifier After using PCA to:\n",
      "The Recall score (Class 1) : 0.9892254523277089\n",
      "-------------------------------------------------------------------------------------------------------------------------\n"
     ]
    }
   ],
   "source": [
    "print(f'The number of features: {numFeatures}')\n",
    "listTestAccLR = []\n",
    "listTestAccLGBM = []\n",
    "for f in range(2,numFeatures+1):\n",
    "    pca = PCA(n_components=f, random_state=0)\n",
    "    X_train_AfterPCA = pca.fit_transform(X_train)\n",
    "    X_val_AfterPCA = pca.transform(X_val)\n",
    "    print(f\"Training by {f} component on LogisticRegression After using PCA to:\")\n",
    "    _, valAcc = ApplyMode(LogisticRegression(max_iter=1000, C=10), X_train_AfterPCA, y_train, X_val_AfterPCA, y_val)\n",
    "    listTestAccLR.append(valAcc)\n",
    "    print(f\"Training by {f} component on LGBMClassifier After using PCA to:\")\n",
    "    _, valAccL = ApplyMode(LGBMClassifier(random_state=42),X_train_AfterPCA, y_train, X_val_AfterPCA, y_val)\n",
    "    listTestAccLGBM.append(valAccL)\n",
    "    print('-------------------------------------------------------------------------------------------------------------------------')"
   ]
  },
  {
   "cell_type": "code",
   "execution_count": 53,
   "id": "df427bd4",
   "metadata": {},
   "outputs": [
    {
     "data": {
      "text/html": [
       "<div>\n",
       "<style scoped>\n",
       "    .dataframe tbody tr th:only-of-type {\n",
       "        vertical-align: middle;\n",
       "    }\n",
       "\n",
       "    .dataframe tbody tr th {\n",
       "        vertical-align: top;\n",
       "    }\n",
       "\n",
       "    .dataframe thead th {\n",
       "        text-align: right;\n",
       "    }\n",
       "</style>\n",
       "<table border=\"1\" class=\"dataframe\">\n",
       "  <thead>\n",
       "    <tr style=\"text-align: right;\">\n",
       "      <th></th>\n",
       "      <th>The Recall score (Class 1) of LR with PCA</th>\n",
       "    </tr>\n",
       "  </thead>\n",
       "  <tbody>\n",
       "    <tr>\n",
       "      <th>2</th>\n",
       "      <td>0.955479</td>\n",
       "    </tr>\n",
       "    <tr>\n",
       "      <th>3</th>\n",
       "      <td>0.973572</td>\n",
       "    </tr>\n",
       "    <tr>\n",
       "      <th>4</th>\n",
       "      <td>0.982449</td>\n",
       "    </tr>\n",
       "    <tr>\n",
       "      <th>5</th>\n",
       "      <td>0.982449</td>\n",
       "    </tr>\n",
       "    <tr>\n",
       "      <th>6</th>\n",
       "      <td>0.977367</td>\n",
       "    </tr>\n",
       "    <tr>\n",
       "      <th>7</th>\n",
       "      <td>0.977367</td>\n",
       "    </tr>\n",
       "    <tr>\n",
       "      <th>8</th>\n",
       "      <td>0.995968</td>\n",
       "    </tr>\n",
       "    <tr>\n",
       "      <th>9</th>\n",
       "      <td>0.990818</td>\n",
       "    </tr>\n",
       "    <tr>\n",
       "      <th>10</th>\n",
       "      <td>0.990818</td>\n",
       "    </tr>\n",
       "    <tr>\n",
       "      <th>11</th>\n",
       "      <td>0.996002</td>\n",
       "    </tr>\n",
       "    <tr>\n",
       "      <th>12</th>\n",
       "      <td>0.996002</td>\n",
       "    </tr>\n",
       "    <tr>\n",
       "      <th>13</th>\n",
       "      <td>0.996002</td>\n",
       "    </tr>\n",
       "    <tr>\n",
       "      <th>14</th>\n",
       "      <td>0.996002</td>\n",
       "    </tr>\n",
       "  </tbody>\n",
       "</table>\n",
       "</div>"
      ],
      "text/plain": [
       "    The Recall score (Class 1) of LR with PCA\n",
       "2                                    0.955479\n",
       "3                                    0.973572\n",
       "4                                    0.982449\n",
       "5                                    0.982449\n",
       "6                                    0.977367\n",
       "7                                    0.977367\n",
       "8                                    0.995968\n",
       "9                                    0.990818\n",
       "10                                   0.990818\n",
       "11                                   0.996002\n",
       "12                                   0.996002\n",
       "13                                   0.996002\n",
       "14                                   0.996002"
      ]
     },
     "execution_count": 53,
     "metadata": {},
     "output_type": "execute_result"
    }
   ],
   "source": [
    "# LogisticRegression (The Recall score)\n",
    "Df_listTestAccLR = pd.DataFrame({\"The Recall score (Class 1) of LR with PCA\":listTestAccLR},index = range(2,numFeatures+1))\n",
    "Df_listTestAccLR"
   ]
  },
  {
   "cell_type": "code",
   "execution_count": 54,
   "id": "841de819",
   "metadata": {},
   "outputs": [
    {
     "data": {
      "text/html": [
       "<div>\n",
       "<style scoped>\n",
       "    .dataframe tbody tr th:only-of-type {\n",
       "        vertical-align: middle;\n",
       "    }\n",
       "\n",
       "    .dataframe tbody tr th {\n",
       "        vertical-align: top;\n",
       "    }\n",
       "\n",
       "    .dataframe thead th {\n",
       "        text-align: right;\n",
       "    }\n",
       "</style>\n",
       "<table border=\"1\" class=\"dataframe\">\n",
       "  <thead>\n",
       "    <tr style=\"text-align: right;\">\n",
       "      <th></th>\n",
       "      <th>The Recall score (Class 1) of LGBM with PCA</th>\n",
       "    </tr>\n",
       "  </thead>\n",
       "  <tbody>\n",
       "    <tr>\n",
       "      <th>2</th>\n",
       "      <td>0.999560</td>\n",
       "    </tr>\n",
       "    <tr>\n",
       "      <th>3</th>\n",
       "      <td>0.999593</td>\n",
       "    </tr>\n",
       "    <tr>\n",
       "      <th>4</th>\n",
       "      <td>0.999797</td>\n",
       "    </tr>\n",
       "    <tr>\n",
       "      <th>5</th>\n",
       "      <td>0.999763</td>\n",
       "    </tr>\n",
       "    <tr>\n",
       "      <th>6</th>\n",
       "      <td>0.999763</td>\n",
       "    </tr>\n",
       "    <tr>\n",
       "      <th>7</th>\n",
       "      <td>0.999797</td>\n",
       "    </tr>\n",
       "    <tr>\n",
       "      <th>8</th>\n",
       "      <td>0.992343</td>\n",
       "    </tr>\n",
       "    <tr>\n",
       "      <th>9</th>\n",
       "      <td>0.999797</td>\n",
       "    </tr>\n",
       "    <tr>\n",
       "      <th>10</th>\n",
       "      <td>0.989225</td>\n",
       "    </tr>\n",
       "    <tr>\n",
       "      <th>11</th>\n",
       "      <td>0.992309</td>\n",
       "    </tr>\n",
       "    <tr>\n",
       "      <th>12</th>\n",
       "      <td>0.992343</td>\n",
       "    </tr>\n",
       "    <tr>\n",
       "      <th>13</th>\n",
       "      <td>0.981805</td>\n",
       "    </tr>\n",
       "    <tr>\n",
       "      <th>14</th>\n",
       "      <td>0.989225</td>\n",
       "    </tr>\n",
       "  </tbody>\n",
       "</table>\n",
       "</div>"
      ],
      "text/plain": [
       "    The Recall score (Class 1) of LGBM with PCA\n",
       "2                                      0.999560\n",
       "3                                      0.999593\n",
       "4                                      0.999797\n",
       "5                                      0.999763\n",
       "6                                      0.999763\n",
       "7                                      0.999797\n",
       "8                                      0.992343\n",
       "9                                      0.999797\n",
       "10                                     0.989225\n",
       "11                                     0.992309\n",
       "12                                     0.992343\n",
       "13                                     0.981805\n",
       "14                                     0.989225"
      ]
     },
     "execution_count": 54,
     "metadata": {},
     "output_type": "execute_result"
    }
   ],
   "source": [
    "# LGBMClassifier (The Recall score)\n",
    "Df_listTestAccLGBM = pd.DataFrame({\"The Recall score (Class 1) of LGBM with PCA\":listTestAccLGBM},index = range(2,numFeatures+1))\n",
    "Df_listTestAccLGBM"
   ]
  },
  {
   "cell_type": "code",
   "execution_count": 55,
   "id": "186ba8c8",
   "metadata": {},
   "outputs": [
    {
     "name": "stdout",
     "output_type": "stream",
     "text": [
      "11 components is the best value based on the Recall score (Class 1) of the LogisticRegression classifier with PCA: 0.9960018974046215%\n",
      "4 components is the best value based on the Recall score (Class 1) of the LGBMClassifier classifier with PCA: 0.9997967066476926%\n"
     ]
    }
   ],
   "source": [
    "print(f'{Df_listTestAccLR.idxmax()[0]} components is the best value based on the Recall score (Class 1) of the LogisticRegression classifier with PCA: {Df_listTestAccLR.max()[0]}%')\n",
    "print(f'{Df_listTestAccLGBM.idxmax()[0]} components is the best value based on the Recall score (Class 1) of the LGBMClassifier classifier with PCA: {Df_listTestAccLGBM.max()[0]}%')"
   ]
  },
  {
   "cell_type": "markdown",
   "id": "2ba55b86",
   "metadata": {},
   "source": [
    " ###### plot the performace of both models With ANOVA and PCA"
   ]
  },
  {
   "cell_type": "code",
   "execution_count": 17,
   "id": "7ae024c1",
   "metadata": {},
   "outputs": [
    {
     "data": {
      "text/plain": [
       "<matplotlib.legend.Legend at 0x23ec0d501c0>"
      ]
     },
     "execution_count": 17,
     "metadata": {},
     "output_type": "execute_result"
    },
    {
     "data": {
      "image/png": "[encoded data removed]",
      "text/plain": [
       "<Figure size 432x288 with 1 Axes>"
      ]
     },
     "metadata": {
      "needs_background": "light"
     },
     "output_type": "display_data"
    }
   ],
   "source": [
    "plt.plot(range(1, 14),listTestAcc_ANOVA_LR , label=f'LR with ANOVA')\n",
    "plt.plot(range(1, 14),listTestAcc_ANOVA_LGBM, label=f'LGBM with ANOVA')\n",
    "plt.plot(range(1, 14),listTestAccLR , label=f'LR with PCA')\n",
    "plt.plot(range(1, 14),listTestAccLGBM, label=f'LGBM with PCA')\n",
    "plt.xlabel('Components')\n",
    "#plt.xticks(range(1, 251))\n",
    "plt.ylabel(\"The Recall score (Class 1)\")\n",
    "plt.legend(bbox_to_anchor=(1.04,1), loc=\"upper left\")"
   ]
  },
  {
   "cell_type": "markdown",
   "id": "c6535da8",
   "metadata": {},
   "source": [
    "### Select (best compoment) For LR and LGBM"
   ]
  },
  {
   "cell_type": "code",
   "execution_count": 56,
   "id": "ade44b95",
   "metadata": {},
   "outputs": [
    {
     "data": {
      "text/html": [
       "<div>\n",
       "<style scoped>\n",
       "    .dataframe tbody tr th:only-of-type {\n",
       "        vertical-align: middle;\n",
       "    }\n",
       "\n",
       "    .dataframe tbody tr th {\n",
       "        vertical-align: top;\n",
       "    }\n",
       "\n",
       "    .dataframe thead th {\n",
       "        text-align: right;\n",
       "    }\n",
       "</style>\n",
       "<table border=\"1\" class=\"dataframe\">\n",
       "  <thead>\n",
       "    <tr style=\"text-align: right;\">\n",
       "      <th></th>\n",
       "      <th></th>\n",
       "      <th>The Recall score (Class 1) of LR</th>\n",
       "    </tr>\n",
       "  </thead>\n",
       "  <tbody>\n",
       "    <tr>\n",
       "      <th>ANOVA</th>\n",
       "      <th>11</th>\n",
       "      <td>0.996002</td>\n",
       "    </tr>\n",
       "    <tr>\n",
       "      <th>PCA</th>\n",
       "      <th>11</th>\n",
       "      <td>0.996002</td>\n",
       "    </tr>\n",
       "  </tbody>\n",
       "</table>\n",
       "</div>"
      ],
      "text/plain": [
       "          The Recall score (Class 1) of LR\n",
       "ANOVA 11                          0.996002\n",
       "PCA   11                          0.996002"
      ]
     },
     "metadata": {},
     "output_type": "display_data"
    },
    {
     "name": "stdout",
     "output_type": "stream",
     "text": [
      "('ANOVA', 11) components is the best value based on the Recall score (Class 1) of the LogisticRegression classifier: 0.9960018974046215%\n"
     ]
    }
   ],
   "source": [
    "LstBestLR = {(\"ANOVA\",Df_listTestAcc_ANOVA_LR.idxmax()[0]) : Df_listTestAcc_ANOVA_LR.max()[0],\n",
    "             (\"PCA\", Df_listTestAccLR.idxmax()[0]) : Df_listTestAccLR.max()[0]}\n",
    "Df_listLR= pd.DataFrame({\"The Recall score (Class 1) of LR\":LstBestLR})\n",
    "display(Df_listLR)\n",
    "print(f'{Df_listLR.idxmax()[0]} components is the best value based on the Recall score (Class 1) of the LogisticRegression classifier: {Df_listLR.max()[0]}%')"
   ]
  },
  {
   "cell_type": "code",
   "execution_count": 57,
   "id": "8d44cd3e",
   "metadata": {},
   "outputs": [
    {
     "data": {
      "text/html": [
       "<div>\n",
       "<style scoped>\n",
       "    .dataframe tbody tr th:only-of-type {\n",
       "        vertical-align: middle;\n",
       "    }\n",
       "\n",
       "    .dataframe tbody tr th {\n",
       "        vertical-align: top;\n",
       "    }\n",
       "\n",
       "    .dataframe thead th {\n",
       "        text-align: right;\n",
       "    }\n",
       "</style>\n",
       "<table border=\"1\" class=\"dataframe\">\n",
       "  <thead>\n",
       "    <tr style=\"text-align: right;\">\n",
       "      <th></th>\n",
       "      <th></th>\n",
       "      <th>The Recall score (Class 1) of LGBM</th>\n",
       "    </tr>\n",
       "  </thead>\n",
       "  <tbody>\n",
       "    <tr>\n",
       "      <th>ANOVA</th>\n",
       "      <th>9</th>\n",
       "      <td>0.999797</td>\n",
       "    </tr>\n",
       "    <tr>\n",
       "      <th>PCA</th>\n",
       "      <th>4</th>\n",
       "      <td>0.999797</td>\n",
       "    </tr>\n",
       "  </tbody>\n",
       "</table>\n",
       "</div>"
      ],
      "text/plain": [
       "         The Recall score (Class 1) of LGBM\n",
       "ANOVA 9                            0.999797\n",
       "PCA   4                            0.999797"
      ]
     },
     "metadata": {},
     "output_type": "display_data"
    },
    {
     "name": "stdout",
     "output_type": "stream",
     "text": [
      "('ANOVA', 9) components is the best value based on the Recall score (Class 1) of the LGBMClassifier classifier: 0.9997967066476926%\n"
     ]
    }
   ],
   "source": [
    "LstBestLGBM = {\n",
    "    (\"ANOVA\", Df_listTestAcc_ANOVA_LGBM.idxmax()[0]): Df_listTestAcc_ANOVA_LGBM.max()[0],\n",
    "    (\"PCA\", Df_listTestAccLGBM.idxmax()[0]) : Df_listTestAccLGBM.max()[0]\n",
    "}\n",
    "Df_listLGBM= pd.DataFrame({\"The Recall score (Class 1) of LGBM\":LstBestLGBM})\n",
    "display(Df_listLGBM)\n",
    "print(f'{Df_listLGBM.idxmax()[0]} components is the best value based on the Recall score (Class 1) of the LGBMClassifier classifier: {Df_listLGBM.max()[0]}%')"
   ]
  },
  {
   "cell_type": "markdown",
   "id": "6b6235db",
   "metadata": {},
   "source": [
    " Get best features (LR and LGBM)"
   ]
  },
  {
   "cell_type": "markdown",
   "id": "f22dd9c2",
   "metadata": {},
   "source": [
    "## Model Training & Model evaluation"
   ]
  },
  {
   "cell_type": "code",
   "execution_count": 135,
   "id": "261914bc",
   "metadata": {},
   "outputs": [],
   "source": [
    "X_trainIMp, X_testIMp, y_trainIMP, y_testIMP = train_test_split(np.array(X_imp), np.array(y), test_size=0.2, random_state=0)\n",
    "X_trainIMp, X_valIMP, y_trainIMP, y_valIMP  = train_test_split(X_trainIMp, y_trainIMP, test_size=0.25, random_state=0)"
   ]
  },
  {
   "cell_type": "code",
   "execution_count": 136,
   "id": "bebf4161",
   "metadata": {},
   "outputs": [],
   "source": [
    "# Normalize\n",
    "scaler = RobustScaler()\n",
    "X_LR_scaling = scaler.fit_transform(X_train)\n",
    "X_testLR_scaling = scaler.transform(X_test)\n",
    "X_LGBM_scaling = scaler.fit_transform(X_train)\n",
    "X_testLGBM_scaling = scaler.transform(X_test)\n",
    "#############\n",
    "X_mutual_info_scaling = scaler.fit_transform(X_trainIMp)\n",
    "X_mutualTest_info_scaling = scaler.fit_transform(X_testIMp)\n",
    "#X_testLGBM_scaling = scaler.transform(y)"
   ]
  },
  {
   "cell_type": "code",
   "execution_count": 111,
   "id": "b5fcf859",
   "metadata": {},
   "outputs": [
    {
     "name": "stdout",
     "output_type": "stream",
     "text": [
      "ANOVA was applied.\n"
     ]
    }
   ],
   "source": [
    "# LR\n",
    "if(Df_listLR.idxmax()[0][0] == 'PCA'):\n",
    "    print(f'{Df_listLR.idxmax()[0][0]} was applied.')\n",
    "    pca = PCA(n_components=Df_listLR.idxmax()[0][1], random_state=0)\n",
    "    X_LR_AfterFX = pca.fit_transform(X_LR_scaling)\n",
    "    X_testLR_AfterFX = pca.transform(X_testLR_scaling)\n",
    "else:\n",
    "    print(f'{Df_listLR.idxmax()[0][0]} was applied.')\n",
    "    ANOVAfs = SelectKBest(score_func=f_classif, k=Df_listLR.idxmax()[0][1])\n",
    "    X_LR_AfterFX = ANOVAfs.fit_transform(X_LR_scaling, y_train)\n",
    "    X_testLR_AfterFX = ANOVAfs.transform(X_testLR_scaling)"
   ]
  },
  {
   "cell_type": "code",
   "execution_count": 94,
   "id": "469a0162",
   "metadata": {},
   "outputs": [
    {
     "name": "stdout",
     "output_type": "stream",
     "text": [
      "ANOVA was applied.\n"
     ]
    }
   ],
   "source": [
    "# LGBM\n",
    "if(Df_listLGBM.idxmax()[0][0] == 'PCA'):\n",
    "    print(f'{Df_listLGBM.idxmax()[0][0]} was applied.')\n",
    "    pca = PCA(n_components=Df_listLGBM.idxmax()[0][1], random_state=0)\n",
    "    X_LGBM_AfterFX = pca.fit_transform(X_LGBM_scaling)\n",
    "    X_testLGBM_AfterFX = pca.transform(X_testLGBM_scaling)\n",
    "else:\n",
    "    print(f'{Df_listLGBM.idxmax()[0][0]} was applied.')\n",
    "    ANOVAfs = SelectKBest(score_func=f_classif, k=Df_listLGBM.idxmax()[0][1])\n",
    "    X_LGBM_AfterFX = ANOVAfs.fit_transform(X_LGBM_scaling, y_train)\n",
    "    X_testLGBM_AfterFX = ANOVAfs.transform(X_testLGBM_scaling)"
   ]
  },
  {
   "cell_type": "markdown",
   "id": "ae286a1e",
   "metadata": {},
   "source": [
    "Define the parameters of distributions"
   ]
  },
  {
   "cell_type": "code",
   "execution_count": 105,
   "id": "f60f1e4b",
   "metadata": {},
   "outputs": [],
   "source": [
    "def getScores(estimator, x, y):\n",
    "    y_pred = estimator.predict(x)\n",
    "    Recall =  recall_score(y, y_pred, pos_label=1)\n",
    "    return Recall\n",
    "\n",
    "def my_scorer(estimator, x, y):\n",
    "    r = getScores(estimator, x, y)\n",
    "    print(f'the Recall (calss 1) : {r}')\n",
    "    return r"
   ]
  },
  {
   "cell_type": "code",
   "execution_count": 151,
   "id": "7da6acd2",
   "metadata": {},
   "outputs": [
    {
     "name": "stdout",
     "output_type": "stream",
     "text": [
      "Best: 0.995876 using {'C': 100, 'penalty': 'l2', 'solver': 'newton-cg'}\n",
      "0.995876 (0.000636) with: {'C': 100, 'penalty': 'l2', 'solver': 'newton-cg'}\n",
      "0.995876 (0.000636) with: {'C': 100, 'penalty': 'l2', 'solver': 'lbfgs'}\n",
      "0.995876 (0.000636) with: {'C': 100, 'penalty': 'l2', 'solver': 'liblinear'}\n",
      "0.995872 (0.000631) with: {'C': 10, 'penalty': 'l2', 'solver': 'newton-cg'}\n",
      "0.995872 (0.000631) with: {'C': 10, 'penalty': 'l2', 'solver': 'lbfgs'}\n",
      "0.995872 (0.000631) with: {'C': 10, 'penalty': 'l2', 'solver': 'liblinear'}\n",
      "0.995872 (0.000631) with: {'C': 1.0, 'penalty': 'l2', 'solver': 'newton-cg'}\n",
      "0.995872 (0.000631) with: {'C': 1.0, 'penalty': 'l2', 'solver': 'lbfgs'}\n",
      "0.995872 (0.000631) with: {'C': 1.0, 'penalty': 'l2', 'solver': 'liblinear'}\n",
      "0.990806 (0.001082) with: {'C': 0.1, 'penalty': 'l2', 'solver': 'newton-cg'}\n",
      "0.990806 (0.001082) with: {'C': 0.1, 'penalty': 'l2', 'solver': 'lbfgs'}\n",
      "0.990806 (0.001082) with: {'C': 0.1, 'penalty': 'l2', 'solver': 'liblinear'}\n",
      "0.987398 (0.003390) with: {'C': 0.01, 'penalty': 'l2', 'solver': 'newton-cg'}\n",
      "0.987398 (0.003390) with: {'C': 0.01, 'penalty': 'l2', 'solver': 'lbfgs'}\n",
      "0.985200 (0.002128) with: {'C': 0.01, 'penalty': 'l2', 'solver': 'liblinear'}\n"
     ]
    }
   ],
   "source": [
    "# logistic regression param_distributions\n",
    "logisticregression__solvers = ['newton-cg', 'lbfgs', 'liblinear']\n",
    "logisticregression__penalty = ['l2']\n",
    "logisticregression__C = [100, 10, 1.0, 0.1, 0.01]\n",
    "# define grid search\n",
    "grid = dict(solver=logisticregression__solvers,penalty=logisticregression__penalty,C=logisticregression__C)\n",
    "cv = RepeatedStratifiedKFold(n_splits=10, n_repeats=3, random_state=42)\n",
    "grid_search = GridSearchCV(estimator=LogisticRegression(max_iter=1000), param_grid=grid, n_jobs=-1, cv=cv, scoring=my_scorer,error_score=0)\n",
    "grid_result = grid_search.fit(X_LR_AfterFX, y_train)\n",
    "# summarize results\n",
    "print(\"Best: %f using %s\" % (grid_result.best_score_, grid_result.best_params_))\n",
    "means = grid_result.cv_results_['mean_test_score']\n",
    "stds = grid_result.cv_results_['std_test_score']\n",
    "params = grid_result.cv_results_['params']\n",
    "for mean, stdev, param in zip(means, stds, params):\n",
    "    print(\"%f (%f) with: %r\" % (mean, stdev, param))"
   ]
  },
  {
   "cell_type": "code",
   "execution_count": 152,
   "id": "fe8201a3",
   "metadata": {},
   "outputs": [
    {
     "name": "stdout",
     "output_type": "stream",
     "text": [
      "Best: 0.999612 using {'min_child_samples': 100, 'num_leaves': 100, 'reg_alpha': 0.1}\n",
      "0.999597 (0.000256) with: {'min_child_samples': 100, 'num_leaves': 100, 'reg_alpha': 0}\n",
      "0.999612 (0.000254) with: {'min_child_samples': 100, 'num_leaves': 100, 'reg_alpha': 0.1}\n",
      "0.998515 (0.000465) with: {'min_child_samples': 100, 'num_leaves': 100, 'reg_alpha': 100}\n",
      "0.999597 (0.000256) with: {'min_child_samples': 100, 'num_leaves': 150, 'reg_alpha': 0}\n",
      "0.999612 (0.000254) with: {'min_child_samples': 100, 'num_leaves': 150, 'reg_alpha': 0.1}\n",
      "0.998515 (0.000465) with: {'min_child_samples': 100, 'num_leaves': 150, 'reg_alpha': 100}\n",
      "0.999597 (0.000256) with: {'min_child_samples': 100, 'num_leaves': 300, 'reg_alpha': 0}\n",
      "0.999612 (0.000254) with: {'min_child_samples': 100, 'num_leaves': 300, 'reg_alpha': 0.1}\n",
      "0.998515 (0.000465) with: {'min_child_samples': 100, 'num_leaves': 300, 'reg_alpha': 100}\n",
      "0.999593 (0.000252) with: {'min_child_samples': 150, 'num_leaves': 100, 'reg_alpha': 0}\n",
      "0.999593 (0.000267) with: {'min_child_samples': 150, 'num_leaves': 100, 'reg_alpha': 0.1}\n",
      "0.998519 (0.000461) with: {'min_child_samples': 150, 'num_leaves': 100, 'reg_alpha': 100}\n",
      "0.999593 (0.000252) with: {'min_child_samples': 150, 'num_leaves': 150, 'reg_alpha': 0}\n",
      "0.999593 (0.000267) with: {'min_child_samples': 150, 'num_leaves': 150, 'reg_alpha': 0.1}\n",
      "0.998519 (0.000461) with: {'min_child_samples': 150, 'num_leaves': 150, 'reg_alpha': 100}\n",
      "0.999593 (0.000252) with: {'min_child_samples': 150, 'num_leaves': 300, 'reg_alpha': 0}\n",
      "0.999593 (0.000267) with: {'min_child_samples': 150, 'num_leaves': 300, 'reg_alpha': 0.1}\n",
      "0.998519 (0.000461) with: {'min_child_samples': 150, 'num_leaves': 300, 'reg_alpha': 100}\n",
      "0.999582 (0.000243) with: {'min_child_samples': 300, 'num_leaves': 100, 'reg_alpha': 0}\n",
      "0.999563 (0.000249) with: {'min_child_samples': 300, 'num_leaves': 100, 'reg_alpha': 0.1}\n",
      "0.997342 (0.000536) with: {'min_child_samples': 300, 'num_leaves': 100, 'reg_alpha': 100}\n",
      "0.999582 (0.000243) with: {'min_child_samples': 300, 'num_leaves': 150, 'reg_alpha': 0}\n",
      "0.999563 (0.000249) with: {'min_child_samples': 300, 'num_leaves': 150, 'reg_alpha': 0.1}\n",
      "0.997342 (0.000536) with: {'min_child_samples': 300, 'num_leaves': 150, 'reg_alpha': 100}\n",
      "0.999582 (0.000243) with: {'min_child_samples': 300, 'num_leaves': 300, 'reg_alpha': 0}\n",
      "0.999563 (0.000249) with: {'min_child_samples': 300, 'num_leaves': 300, 'reg_alpha': 0.1}\n",
      "0.997342 (0.000536) with: {'min_child_samples': 300, 'num_leaves': 300, 'reg_alpha': 100}\n"
     ]
    }
   ],
   "source": [
    "# LGBMClassifier param_distributions\n",
    "LGBM_opt_params ={'num_leaves': [100, 150, 300], \n",
    "             'min_child_samples': [100, 150, 300], \n",
    "             'reg_alpha': [0, 1e-1, 100]}\n",
    "# define grid search\n",
    "grid = dict(LGBM_opt_params)\n",
    "cv = RepeatedStratifiedKFold(n_splits=10, n_repeats=3, random_state=42)\n",
    "grid_search = GridSearchCV(estimator=LGBMClassifier(random_state=42), param_grid=grid, n_jobs=-1, cv=cv, scoring=my_scorer,error_score=0)\n",
    "grid_result = grid_search.fit(X_LGBM_AfterFX, y_train)\n",
    "# summarize results\n",
    "print(\"Best: %f using %s\" % (grid_result.best_score_, grid_result.best_params_))\n",
    "means = grid_result.cv_results_['mean_test_score']\n",
    "stds = grid_result.cv_results_['std_test_score']\n",
    "params = grid_result.cv_results_['params']\n",
    "for mean, stdev, param in zip(means, stds, params):\n",
    "    print(\"%f (%f) with: %r\" % (mean, stdev, param))"
   ]
  },
  {
   "cell_type": "code",
   "execution_count": 103,
   "id": "2491d054",
   "metadata": {},
   "outputs": [],
   "source": [
    "from sklearn.model_selection import cross_val_score, cross_val_predict\n",
    "def fitModel_bestParams(model, X_train, y_train, X_test, y_test, title):\n",
    "    m = cross_val_score(model, X_train, y_train, cv=4, scoring= my_scorer)\n",
    "    y_pred =  cross_val_predict(model, X_test, y_test, cv=4)\n",
    "    #print(classification_report(y_pred, y_test))\n",
    "    cm = confusion_matrix(y_test, y_pred, labels=[0, 1])\n",
    "    disp = ConfusionMatrixDisplay(confusion_matrix=cm, display_labels=[0, 1])\n",
    "    disp.plot()\n",
    "    plt.title(f\"The confusion_matrix of {title}\")\n",
    "    plt.show()\n",
    "    print(\"Mean score of %f with a standard deviation of %f\" % (m.mean(), m.std()))"
   ]
  },
  {
   "cell_type": "code",
   "execution_count": 154,
   "id": "ecc09819",
   "metadata": {},
   "outputs": [
    {
     "name": "stdout",
     "output_type": "stream",
     "text": [
      "the Recall (calss 1) : 0.9957025242015742\n",
      "the Recall (calss 1) : 0.9958834705509816\n",
      "the Recall (calss 1) : 0.996064416900389\n",
      "the Recall (calss 1) : 0.9958382339636298\n"
     ]
    },
    {
     "data": {
      "image/png": "[encoded data removed]",
      "text/plain": [
       "<Figure size 432x288 with 2 Axes>"
      ]
     },
     "metadata": {
      "needs_background": "light"
     },
     "output_type": "display_data"
    },
    {
     "name": "stdout",
     "output_type": "stream",
     "text": [
      "Mean score of 0.995872 with a standard deviation of 0.000129\n"
     ]
    }
   ],
   "source": [
    "ModelLR = LogisticRegression(random_state = 42, max_iter=1000, C= 100, penalty= 'l2', solver= 'newton-cg')\n",
    "fitModel_bestParams(ModelLR, X_LR_AfterFX, y_train, X_testLR_AfterFX, y_test, str(\"LogisticRegression with \" + Df_listLR.idxmax()[0][0]))"
   ]
  },
  {
   "cell_type": "code",
   "execution_count": 155,
   "id": "edfb2cd1",
   "metadata": {},
   "outputs": [
    {
     "name": "stdout",
     "output_type": "stream",
     "text": [
      "the Recall (calss 1) : 0.9996381073011852\n",
      "the Recall (calss 1) : 0.9996833438885371\n",
      "the Recall (calss 1) : 0.9995023975391296\n",
      "the Recall (calss 1) : 0.9996381073011852\n"
     ]
    },
    {
     "data": {
      "image/png": "[encoded data removed]",
      "text/plain": [
       "<Figure size 432x288 with 2 Axes>"
      ]
     },
     "metadata": {
      "needs_background": "light"
     },
     "output_type": "display_data"
    },
    {
     "name": "stdout",
     "output_type": "stream",
     "text": [
      "Mean score of 0.999615 with a standard deviation of 0.000068\n"
     ]
    }
   ],
   "source": [
    "ModelLGBM = LGBMClassifier(random_state = 42,  min_child_samples= 100, num_leaves = 100, reg_alpha = 0.1)\n",
    "fitModel_bestParams(ModelLGBM, X_LGBM_AfterFX, y_train, X_testLGBM_AfterFX, y_test, str(\"LGBMClassifier with \" +Df_listLGBM.idxmax()[0][0]))"
   ]
  },
  {
   "cell_type": "markdown",
   "id": "2631bbf4",
   "metadata": {},
   "source": [
    "Using mutual_info on LR & LGBMClassifier"
   ]
  },
  {
   "cell_type": "code",
   "execution_count": 138,
   "id": "aca0aa3d",
   "metadata": {},
   "outputs": [
    {
     "name": "stdout",
     "output_type": "stream",
     "text": [
      "the Recall (calss 1) : 0.9957025242015742\n"
     ]
    },
    {
     "name": "stderr",
     "output_type": "stream",
     "text": [
      "C:\\Users\\AhmedPro\\anaconda3\\lib\\site-packages\\scipy\\optimize\\_linesearch.py:305: LineSearchWarning: The line search algorithm did not converge\n",
      "  warn('The line search algorithm did not converge', LineSearchWarning)\n",
      "C:\\Users\\AhmedPro\\anaconda3\\lib\\site-packages\\sklearn\\utils\\optimize.py:203: UserWarning: Line Search failed\n",
      "  warnings.warn(\"Line Search failed\")\n"
     ]
    },
    {
     "name": "stdout",
     "output_type": "stream",
     "text": [
      "the Recall (calss 1) : 0.9744413281462047\n",
      "the Recall (calss 1) : 0.996064416900389\n",
      "the Recall (calss 1) : 0.9958382339636298\n"
     ]
    },
    {
     "data": {
      "image/png": "[encoded data removed]",
      "text/plain": [
       "<Figure size 432x288 with 2 Axes>"
      ]
     },
     "metadata": {
      "needs_background": "light"
     },
     "output_type": "display_data"
    },
    {
     "name": "stdout",
     "output_type": "stream",
     "text": [
      "Mean score of 0.990512 with a standard deviation of 0.009279\n"
     ]
    }
   ],
   "source": [
    "ModelLR_mutual_info = LogisticRegression(random_state = 42, max_iter=1000, C= 100, penalty= 'l2', solver= 'newton-cg')\n",
    "fitModel_bestParams(ModelLR_mutual_info, X_mutual_info_scaling, y_trainIMP, X_mutualTest_info_scaling, y_testIMP, \"LogisticRegression with mutual_info.\")"
   ]
  },
  {
   "cell_type": "code",
   "execution_count": 139,
   "id": "5d0c0300",
   "metadata": {},
   "outputs": [
    {
     "name": "stdout",
     "output_type": "stream",
     "text": [
      "the Recall (calss 1) : 0.9996833438885371\n",
      "the Recall (calss 1) : 0.9995928707138334\n",
      "the Recall (calss 1) : 0.9995023975391296\n",
      "the Recall (calss 1) : 0.9996381073011852\n"
     ]
    },
    {
     "data": {
      "image/png": "[encoded data removed]",
      "text/plain": [
       "<Figure size 432x288 with 2 Axes>"
      ]
     },
     "metadata": {
      "needs_background": "light"
     },
     "output_type": "display_data"
    },
    {
     "name": "stdout",
     "output_type": "stream",
     "text": [
      "Mean score of 0.999604 with a standard deviation of 0.000067\n"
     ]
    }
   ],
   "source": [
    "ModelLGBM_mutual_info = LGBMClassifier(random_state = 42,  min_child_samples= 100, num_leaves = 100, reg_alpha = 0.1)\n",
    "fitModel_bestParams(ModelLGBM_mutual_info, X_mutual_info_scaling, y_trainIMP, X_mutualTest_info_scaling, y_testIMP, \"LGBMClassifier with mutual_info\")"
   ]
  },
  {
   "cell_type": "markdown",
   "id": "c40221c2",
   "metadata": {},
   "source": [
    "## The champion Model (LGBMClassifier With ANOVA)"
   ]
  },
  {
   "cell_type": "code",
   "execution_count": 159,
   "id": "cbca96e8",
   "metadata": {},
   "outputs": [
    {
     "data": {
      "text/plain": [
       "['piplineModelLGBM_final.pkl']"
      ]
     },
     "execution_count": 159,
     "metadata": {},
     "output_type": "execute_result"
    }
   ],
   "source": [
    "ModelLGBM = LGBMClassifier(random_state = 42,  min_child_samples= 100, num_leaves = 100, reg_alpha = 0.1)\n",
    "piplineModelLGBM = make_pipeline(RobustScaler(),SelectKBest(score_func=f_classif, k=Df_listLGBM.idxmax()[0][1]), ModelLGBM)\n",
    "piplineModelLGBM.fit(X, np.array(y))\n",
    "joblib.dump(piplineModelLGBM, 'piplineModelLGBM_final.pkl')"
   ]
  },
  {
   "cell_type": "markdown",
   "id": "87065988",
   "metadata": {},
   "source": [
    "# References:\n",
    "1. https://machinelearningmastery.com/hyperparameter-optimization-with-random-search-and-grid-search/\n",
    "2. https://medium.com/@geotourloukis/scikit-learn-pipeline-randomizedsearchcv-ml-model-selection-churn-modeling-dataset-a5bf49fa8dcb"
   ]
  },
  {
   "cell_type": "code",
   "execution_count": null,
   "id": "8f0c6718",
   "metadata": {},
   "outputs": [],
   "source": []
  }
 ],
 "metadata": {
  "kernelspec": {
   "display_name": "Python 3 (ipykernel)",
   "language": "python",
   "name": "python3"
  },
  "language_info": {
   "codemirror_mode": {
    "name": "ipython",
    "version": 3
   },
   "file_extension": ".py",
   "mimetype": "text/x-python",
   "name": "python",
   "nbconvert_exporter": "python",
   "pygments_lexer": "ipython3",
   "version": "3.9.12"
  }
 },
 "nbformat": 4,
 "nbformat_minor": 5
}
